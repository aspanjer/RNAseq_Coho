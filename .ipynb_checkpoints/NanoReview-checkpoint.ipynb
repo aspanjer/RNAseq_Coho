{
 "cells": [
  {
   "cell_type": "markdown",
   "metadata": {},
   "source": [
    "###Nanostring Sequence Checks\n",
    "\n",
    "I received the sequence probe designs for my nanostring project. To see if they correctly target the sequences of intrest I need to use blast. I first need to create a database out of the transcriptome. "
   ]
  },
  {
   "cell_type": "code",
   "execution_count": 3,
   "metadata": {
    "collapsed": false
   },
   "outputs": [
    {
     "name": "stdout",
     "output_type": "stream",
     "text": [
      "/Users/andrewspanjer/RNAseq_Coho/data\n"
     ]
    }
   ],
   "source": [
    "cd /Users/andrewspanjer/RNAseq_Coho/data"
   ]
  },
  {
   "cell_type": "code",
   "execution_count": 5,
   "metadata": {
    "collapsed": false
   },
   "outputs": [
    {
     "name": "stdout",
     "output_type": "stream",
     "text": [
      "A.1.fastq.gz            J.2.fastq.gz            S.2.fastq.gz\r\n",
      "A.2.fastq.gz            K.1.fastq.gz            T.1.fastq.gz\r\n",
      "B.1.fastq.gz            K.2.fastq.gz            T.2.fastq.gz\r\n",
      "B.2.fastq.gz            L.1.fastq.gz            U.1.fastq.gz\r\n",
      "C.1.fastq.gz            L.2.fastq.gz            U.2.fastq.gz\r\n",
      "C.2.fastq.gz            M.1.fastq.gz            V.1.fastq.gz\r\n",
      "D.1.fastq.gz            M.2.fastq.gz            V.2.fastq.gz\r\n",
      "D.2.fastq.gz            N.1.fastq.gz            W.1.fastq.gz\r\n",
      "E.1.fastq.gz            N.2.fastq.gz            W.2.fastq.gz\r\n",
      "E.2.fastq.gz            O.1.fastq.gz            X.1.fastq.gz\r\n",
      "F.1.fastq.gz            O.2.fastq.gz            X.2.fastq.gz\r\n",
      "F.2.fastq.gz            P.1.fastq.gz            probeSeq.fasta\r\n",
      "G.1.fastq.gz            P.2.fastq.gz            reads.txt\r\n",
      "G.2.fastq.gz            Q.1.fastq.gz            transcriptome.fasta\r\n",
      "H.1.fastq.gz            Q.2.fastq.gz            transcriptome.fasta.nhr\r\n",
      "H.2.fastq.gz            R.1.fastq.gz            transcriptome.fasta.nin\r\n",
      "I.1.fastq.gz            R.2.fastq.gz            transcriptome.fasta.nsq\r\n",
      "I.2.fastq.gz            README.md\r\n",
      "J.1.fastq.gz            S.1.fastq.gz\r\n"
     ]
    }
   ],
   "source": [
    "!ls"
   ]
  },
  {
   "cell_type": "code",
   "execution_count": 16,
   "metadata": {
    "collapsed": false
   },
   "outputs": [
    {
     "name": "stdout",
     "output_type": "stream",
     "text": [
      "\n",
      "\n",
      "Building a new DB, current time: 10/17/2016 10:19:54\n",
      "New DB name:   /Users/andrewspanjer/RNAseq_Coho/data/tran2.fasta\n",
      "New DB title:  tran2.fasta\n",
      "Sequence type: Nucleotide\n",
      "Keep MBits: T\n",
      "Maximum file size: 1000000000B\n",
      "Adding sequences from FASTA; added 43228 sequences in 3.5295 seconds.\n"
     ]
    }
   ],
   "source": [
    "!makeblastdb -in tran2.fasta -dbtype nucl"
   ]
  },
  {
   "cell_type": "markdown",
   "metadata": {},
   "source": [
    "Next I need to take the probe target sequences as supplied by Nanostring and blast them against the created database. since these are nucleotide sequences I'll use blastn. Fist I'll use my denovo transcriptome (transcriptome.fasta) and then I'll use the Jin-Hyoung Kim 2015 transcriptome (tran2.fasta)"
   ]
  },
  {
   "cell_type": "code",
   "execution_count": 6,
   "metadata": {
    "collapsed": false
   },
   "outputs": [],
   "source": [
    "!blastn -query probesNano.fasta -db transcriptome.fasta -outfmt 6 -out ../analyses/probecheck.txt"
   ]
  },
  {
   "cell_type": "markdown",
   "metadata": {},
   "source": [
    "Repeat analysis with tran2.fasta:"
   ]
  },
  {
   "cell_type": "code",
   "execution_count": 7,
   "metadata": {
    "collapsed": true
   },
   "outputs": [],
   "source": [
    "!blastn -query probesNano.fasta -db tran2.fasta -outfmt 6 -out ../analyses/probecheck2.txt"
   ]
  },
  {
   "cell_type": "markdown",
   "metadata": {},
   "source": [
    "##Need to Blast tran2.fasta against salmonDB in order to have comparable annotations between my de novo assembly and the Jin-Hyoung Kim 2015 transcriptome. \n",
    "\n",
    "steps: \n",
    "    1. Make database with protein sequences for Oncorynchus and Salmo (downloaded at 11:53 from uniprot.org)\n",
    "    2. blast trans2 against this database"
   ]
  },
  {
   "cell_type": "code",
   "execution_count": 9,
   "metadata": {
    "collapsed": true
   },
   "outputs": [],
   "source": [
    "cat ../BlastDB/oncorhynchus.fasta ../BlastDB/salmo.fasta > ../BlastDB/salmonDB.fasta"
   ]
  },
  {
   "cell_type": "code",
   "execution_count": 10,
   "metadata": {
    "collapsed": false,
    "scrolled": false
   },
   "outputs": [
    {
     "name": "stdout",
     "output_type": "stream",
     "text": [
      "\n",
      "\n",
      "Building a new DB, current time: 10/18/2016 11:47:37\n",
      "New DB name:   /Users/andrewspanjer/RNAseq_Coho/BlastDB/salmonDB.fasta\n",
      "New DB title:  ../BlastDB/salmonDB.fasta\n",
      "Sequence type: Protein\n",
      "Keep MBits: T\n",
      "Maximum file size: 1000000000B\n",
      "Adding sequences from FASTA; added 62567 sequences in 4.7476 seconds.\n"
     ]
    }
   ],
   "source": [
    "!makeblastdb -in ../BlastDB/salmonDB.fasta -dbtype prot"
   ]
  },
  {
   "cell_type": "code",
   "execution_count": null,
   "metadata": {
    "collapsed": false
   },
   "outputs": [],
   "source": [
    "!blastx -query tran2.fasta -db ../BlastDB/salmonDB.fasta -outfmt 6 -max_target_seqs 1 -out ../analyses/tran2protBlastprobes.txt"
   ]
  },
  {
   "cell_type": "markdown",
   "metadata": {},
   "source": [
    "In the meantime, combine the annotation from my transcriptome so that gene names can be added to the sequences. "
   ]
  },
  {
   "cell_type": "code",
   "execution_count": 22,
   "metadata": {
    "collapsed": false
   },
   "outputs": [
    {
     "name": "stdout",
     "output_type": "stream",
     "text": [
      "/Users/andrewspanjer/RNAseq_Coho/analyses/Annotation\n"
     ]
    }
   ],
   "source": [
    "cd RNAseq_Coho/analyses/Annotation/"
   ]
  },
  {
   "cell_type": "code",
   "execution_count": 27,
   "metadata": {
    "collapsed": false
   },
   "outputs": [],
   "source": [
    "!cat 00.txt 01.txt 02.txt 03.txt 04.txt 05.txt 06.txt 07.txt 08.txt 09.txt > annotation.txt"
   ]
  },
  {
   "cell_type": "markdown",
   "metadata": {},
   "source": []
  }
 ],
 "metadata": {
  "anaconda-cloud": {},
  "kernelspec": {
   "display_name": "Python [conda root]",
   "language": "python",
   "name": "conda-root-py"
  },
  "language_info": {
   "codemirror_mode": {
    "name": "ipython",
    "version": 2
   },
   "file_extension": ".py",
   "mimetype": "text/x-python",
   "name": "python",
   "nbconvert_exporter": "python",
   "pygments_lexer": "ipython2",
   "version": "2.7.12"
  }
 },
 "nbformat": 4,
 "nbformat_minor": 1
}
