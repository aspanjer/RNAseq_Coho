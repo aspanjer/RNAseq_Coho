{
 "cells": [
  {
   "cell_type": "code",
   "execution_count": 2,
   "metadata": {
    "collapsed": false
   },
   "outputs": [
    {
     "name": "stdout",
     "output_type": "stream",
     "text": [
      "/Users/andrewspanjer/RNAseq_Coho\n"
     ]
    }
   ],
   "source": [
    "cd ./RNAseq_Coho/"
   ]
  },
  {
   "cell_type": "markdown",
   "metadata": {
    "collapsed": true
   },
   "source": [
    "make kolisto index from transcriptome:"
   ]
  },
  {
   "cell_type": "code",
   "execution_count": null,
   "metadata": {
    "collapsed": true
   },
   "outputs": [],
   "source": [
    "./scripts/kallisto/kallisto index -i transcriptome1 ./analyses/transcriptome/transcriptome.fasta "
   ]
  },
  {
   "cell_type": "markdown",
   "metadata": {},
   "source": [
    "Count reads for PE files:"
   ]
  },
  {
   "cell_type": "code",
   "execution_count": null,
   "metadata": {
    "collapsed": false
   },
   "outputs": [
    {
     "name": "stdout",
     "output_type": "stream",
     "text": [
      "\n",
      "[quant] fragment length distribution will be estimated from the data\n",
      "[index] k-mer length: 31\n",
      "[index] number of targets: 138,481\n",
      "[index] number of k-mers: 61,754,150\n",
      "[index] number of equivalence classes: 280,049\n",
      "[quant] running in paired-end mode\n",
      "[quant] will process pair 1: /Volumes/Untitled/trimed_fastq/A.1_trimmed.fq.gz\n",
      "                             /Volumes/Untitled/trimed_fastq/A.2_trimmed.fq.gz\n",
      "[quant] will process pair 2: /Volumes/Untitled/trimed_fastq/B.1_trimmed.fq.gz\n",
      "                             /Volumes/Untitled/trimed_fastq/B.2_trimmed.fq.gz\n",
      "[quant] will process pair 3: /Volumes/Untitled/trimed_fastq/C.1_trimmed.fq.gz\n",
      "                             /Volumes/Untitled/trimed_fastq/C.2_trimmed.fq.gz\n",
      "[quant] will process pair 4: /Volumes/Untitled/trimed_fastq/D.1_trimmed.fq.gz\n",
      "                             /Volumes/Untitled/trimed_fastq/D.2_trimmed.fq.gz\n",
      "[quant] will process pair 5: /Volumes/Untitled/trimed_fastq/E.1_trimmed.fq.gz\n",
      "                             /Volumes/Untitled/trimed_fastq/E.2_trimmed.fq.gz\n",
      "[quant] will process pair 6: /Volumes/Untitled/trimed_fastq/F.1_trimmed.fq.gz\n",
      "                             /Volumes/Untitled/trimed_fastq/F.2_trimmed.fq.gz\n",
      "[quant] will process pair 7: /Volumes/Untitled/trimed_fastq/G.1_trimmed.fq.gz\n",
      "                             /Volumes/Untitled/trimed_fastq/G.2_trimmed.fq.gz\n",
      "[quant] will process pair 8: /Volumes/Untitled/trimed_fastq/H.1_trimmed.fq.gz\n",
      "                             /Volumes/Untitled/trimed_fastq/H.2_trimmed.fq.gz\n",
      "[quant] will process pair 9: /Volumes/Untitled/trimed_fastq/I.1_trimmed.fq.gz\n",
      "                             /Volumes/Untitled/trimed_fastq/I.2_trimmed.fq.gz\n",
      "[quant] will process pair 10: /Volumes/Untitled/trimed_fastq/J.1_trimmed.fq.gz\n",
      "                             /Volumes/Untitled/trimed_fastq/J.2_trimmed.fq.gz\n",
      "[quant] will process pair 11: /Volumes/Untitled/trimed_fastq/K.1_trimmed.fq.gz\n",
      "                             /Volumes/Untitled/trimed_fastq/K.2_trimmed.fq.gz\n",
      "[quant] will process pair 12: /Volumes/Untitled/trimed_fastq/L.1_trimmed.fq.gz\n",
      "                             /Volumes/Untitled/trimed_fastq/L.2_trimmed.fq.gz\n",
      "[quant] will process pair 13: /Volumes/Untitled/trimed_fastq/M.1_trimmed.fq.gz\n",
      "                             /Volumes/Untitled/trimed_fastq/M.2_trimmed.fq.gz\n",
      "[quant] will process pair 14: /Volumes/Untitled/trimed_fastq/N.1_trimmed.fq.gz\n",
      "                             /Volumes/Untitled/trimed_fastq/N.2_trimmed.fq.gz\n",
      "[quant] will process pair 15: /Volumes/Untitled/trimed_fastq/O.1_trimmed.fq.gz\n",
      "                             /Volumes/Untitled/trimed_fastq/O.2_trimmed.fq.gz\n",
      "[quant] will process pair 16: /Volumes/Untitled/trimed_fastq/P.1_trimmed.fq.gz\n",
      "                             /Volumes/Untitled/trimed_fastq/P.2_trimmed.fq.gz\n",
      "[quant] will process pair 17: /Volumes/Untitled/trimed_fastq/Q.1_trimmed.fq.gz\n",
      "                             /Volumes/Untitled/trimed_fastq/Q.2_trimmed.fq.gz\n",
      "[quant] will process pair 18: /Volumes/Untitled/trimed_fastq/R.1_trimmed.fq.gz\n",
      "                             /Volumes/Untitled/trimed_fastq/R.2_trimmed.fq.gz\n",
      "[quant] will process pair 19: /Volumes/Untitled/trimed_fastq/S.1_trimmed.fq.gz\n",
      "                             /Volumes/Untitled/trimed_fastq/S.2_trimmed.fq.gz\n",
      "[quant] will process pair 20: /Volumes/Untitled/trimed_fastq/T.1_trimmed.fq.gz\n",
      "                             /Volumes/Untitled/trimed_fastq/T.2_trimmed.fq.gz\n",
      "[quant] will process pair 21: /Volumes/Untitled/trimed_fastq/U.1_trimmed.fq.gz\n",
      "                             /Volumes/Untitled/trimed_fastq/U.2_trimmed.fq.gz\n",
      "[quant] will process pair 22: /Volumes/Untitled/trimed_fastq/V.1_trimmed.fq.gz\n",
      "                             /Volumes/Untitled/trimed_fastq/V.2_trimmed.fq.gz\n",
      "[quant] will process pair 23: /Volumes/Untitled/trimed_fastq/W.1_trimmed.fq.gz\n",
      "                             /Volumes/Untitled/trimed_fastq/W.2_trimmed.fq.gz\n",
      "[quant] will process pair 24: /Volumes/Untitled/trimed_fastq/X.1_trimmed.fq.gz\n",
      "                             /Volumes/Untitled/trimed_fastq/X.2_trimmed.fq.gz\n",
      "[quant] finding pseudoalignments for the reads ..."
     ]
    }
   ],
   "source": [
    "!./scripts/kallisto/kallisto quant -i transcriptome1 -o ./analyses/Counts/ /Volumes/Untitled/trimed_fastq/*_trimmed.fq.gz "
   ]
  },
  {
   "cell_type": "code",
   "execution_count": null,
   "metadata": {
    "collapsed": true
   },
   "outputs": [],
   "source": [
    "./scripts/kallisto/kallisto quant -i transcriptome1 -o ./analyses/Counts/ ./data/B.1.fastq.gz ./data/B.2.fastq.gz "
   ]
  },
  {
   "cell_type": "code",
   "execution_count": null,
   "metadata": {
    "collapsed": true
   },
   "outputs": [],
   "source": [
    "./scripts/kallisto/kallisto quant -i transcriptome1 -o ./analyses/Counts/ ./data/C.1.fastq.gz ./data/C.2.fastq.gz "
   ]
  },
  {
   "cell_type": "code",
   "execution_count": null,
   "metadata": {
    "collapsed": true
   },
   "outputs": [],
   "source": [
    "./scripts/kallisto/kallisto quant -i transcriptome1 -o ./analyses/Counts/ ./data/D.1.fastq.gz ./data/D.2.fastq.gz "
   ]
  },
  {
   "cell_type": "code",
   "execution_count": null,
   "metadata": {
    "collapsed": true
   },
   "outputs": [],
   "source": [
    "./scripts/kallisto/kallisto quant -i transcriptome1 -o ./analyses/Counts/ ./data/E.1.fastq.gz ./data/E.2.fastq.gz "
   ]
  },
  {
   "cell_type": "code",
   "execution_count": null,
   "metadata": {
    "collapsed": true
   },
   "outputs": [],
   "source": [
    "./scripts/kallisto/kallisto quant -i transcriptome1 -o ./analyses/Counts/ ./data/F.1.fastq.gz ./data/F.2.fastq.gz "
   ]
  },
  {
   "cell_type": "code",
   "execution_count": null,
   "metadata": {
    "collapsed": true
   },
   "outputs": [],
   "source": [
    "./scripts/kallisto/kallisto quant -i transcriptome1 -o ./analyses/Counts/ ./data/G.1.fastq.gz ./data/G.2.fastq.gz "
   ]
  },
  {
   "cell_type": "code",
   "execution_count": null,
   "metadata": {
    "collapsed": true
   },
   "outputs": [],
   "source": [
    "./scripts/kallisto/kallisto quant -i transcriptome1 -o ./analyses/Counts/ ./data/H.1.fastq.gz ./data/H.2.fastq.gz "
   ]
  },
  {
   "cell_type": "code",
   "execution_count": null,
   "metadata": {
    "collapsed": true
   },
   "outputs": [],
   "source": [
    "./scripts/kallisto/kallisto quant -i transcriptome1 -o ./analyses/Counts/ ./data/I.1.fastq.gz ./data/I.2.fastq.gz "
   ]
  },
  {
   "cell_type": "code",
   "execution_count": null,
   "metadata": {
    "collapsed": true
   },
   "outputs": [],
   "source": [
    "./scripts/kallisto/kallisto quant -i transcriptome1 -o ./analyses/Counts/ ./data/J.1.fastq.gz ./data/J.2.fastq.gz "
   ]
  },
  {
   "cell_type": "code",
   "execution_count": null,
   "metadata": {
    "collapsed": true
   },
   "outputs": [],
   "source": [
    "./scripts/kallisto/kallisto quant -i transcriptome1 -o ./analyses/Counts/ ./data/K.1.fastq.gz ./data/K.2.fastq.gz "
   ]
  },
  {
   "cell_type": "code",
   "execution_count": null,
   "metadata": {
    "collapsed": true
   },
   "outputs": [],
   "source": [
    "./scripts/kallisto/kallisto quant -i transcriptome1 -o ./analyses/Counts/ ./data/L.1.fastq.gz ./data/L.2.fastq.gz "
   ]
  },
  {
   "cell_type": "code",
   "execution_count": null,
   "metadata": {
    "collapsed": true
   },
   "outputs": [],
   "source": [
    "./scripts/kallisto/kallisto quant -i transcriptome1 -o ./analyses/Counts/ ./data/M.1.fastq.gz ./data/M.2.fastq.gz "
   ]
  },
  {
   "cell_type": "code",
   "execution_count": null,
   "metadata": {
    "collapsed": true
   },
   "outputs": [],
   "source": [
    "./scripts/kallisto/kallisto quant -i transcriptome1 -o ./analyses/Counts/ ./data/N.1.fastq.gz ./data/N.2.fastq.gz "
   ]
  },
  {
   "cell_type": "code",
   "execution_count": null,
   "metadata": {
    "collapsed": true
   },
   "outputs": [],
   "source": [
    "./scripts/kallisto/kallisto quant -i transcriptome1 -o ./analyses/Counts/ ./data/O.1.fastq.gz ./data/O.2.fastq.gz "
   ]
  },
  {
   "cell_type": "code",
   "execution_count": null,
   "metadata": {
    "collapsed": true
   },
   "outputs": [],
   "source": [
    "./scripts/kallisto/kallisto quant -i transcriptome1 -o ./analyses/Counts/ ./data/P.1.fastq.gz ./data/P.2.fastq.gz "
   ]
  },
  {
   "cell_type": "code",
   "execution_count": null,
   "metadata": {
    "collapsed": true
   },
   "outputs": [],
   "source": [
    "./scripts/kallisto/kallisto quant -i transcriptome1 -o ./analyses/Counts/ ./data/Q.1.fastq.gz ./data/Q.2.fastq.gz "
   ]
  },
  {
   "cell_type": "code",
   "execution_count": null,
   "metadata": {
    "collapsed": true
   },
   "outputs": [],
   "source": [
    "./scripts/kallisto/kallisto quant -i transcriptome1 -o ./analyses/Counts/ ./data/R.1.fastq.gz ./data/R.2.fastq.gz "
   ]
  },
  {
   "cell_type": "code",
   "execution_count": null,
   "metadata": {
    "collapsed": true
   },
   "outputs": [],
   "source": [
    "./scripts/kallisto/kallisto quant -i transcriptome1 -o ./analyses/Counts/ ./data/S.1.fastq.gz ./data/S.2.fastq.gz "
   ]
  },
  {
   "cell_type": "code",
   "execution_count": null,
   "metadata": {
    "collapsed": true
   },
   "outputs": [],
   "source": [
    "./scripts/kallisto/kallisto quant -i transcriptome1 -o ./analyses/Counts/ ./data/T.1.fastq.gz ./data/T.2.fastq.gz "
   ]
  },
  {
   "cell_type": "code",
   "execution_count": null,
   "metadata": {
    "collapsed": true
   },
   "outputs": [],
   "source": [
    "./scripts/kallisto/kallisto quant -i transcriptome1 -o ./analyses/Counts/ ./data/U.1.fastq.gz ./data/U.2.fastq.gz "
   ]
  },
  {
   "cell_type": "code",
   "execution_count": null,
   "metadata": {
    "collapsed": true
   },
   "outputs": [],
   "source": [
    "./scripts/kallisto/kallisto quant -i transcriptome1 -o ./analyses/Counts/ ./data/V.1.fastq.gz ./data/V.2.fastq.gz "
   ]
  },
  {
   "cell_type": "code",
   "execution_count": null,
   "metadata": {
    "collapsed": true
   },
   "outputs": [],
   "source": [
    "./scripts/kallisto/kallisto quant -i transcriptome1 -o ./analyses/Counts/ ./data/W.1.fastq.gz ./data/W.2.fastq.gz "
   ]
  },
  {
   "cell_type": "code",
   "execution_count": null,
   "metadata": {
    "collapsed": true
   },
   "outputs": [],
   "source": [
    "./scripts/kallisto/kallisto quant -i transcriptome1 -o ./analyses/Counts/ ./data/X.1.fastq.gz ./data/X.2.fastq.gz "
   ]
  },
  {
   "cell_type": "code",
   "execution_count": null,
   "metadata": {
    "collapsed": true
   },
   "outputs": [],
   "source": [
    "run DEseq2 to compare sites"
   ]
  },
  {
   "cell_type": "code",
   "execution_count": null,
   "metadata": {
    "collapsed": true
   },
   "outputs": [],
   "source": [
    "heat map"
   ]
  },
  {
   "cell_type": "code",
   "execution_count": null,
   "metadata": {
    "collapsed": true
   },
   "outputs": [],
   "source": [
    "annotate with blast"
   ]
  },
  {
   "cell_type": "code",
   "execution_count": null,
   "metadata": {
    "collapsed": false
   },
   "outputs": [],
   "source": [
    "GO terms pull from Uniprot"
   ]
  },
  {
   "cell_type": "code",
   "execution_count": null,
   "metadata": {
    "collapsed": true
   },
   "outputs": [],
   "source": [
    "condense GO terms and run enrichment analysis"
   ]
  },
  {
   "cell_type": "code",
   "execution_count": null,
   "metadata": {
    "collapsed": true
   },
   "outputs": [],
   "source": [
    "next?"
   ]
  }
 ],
 "metadata": {
  "anaconda-cloud": {},
  "kernelspec": {
   "display_name": "Python [conda root]",
   "language": "python",
   "name": "conda-root-py"
  },
  "language_info": {
   "codemirror_mode": {
    "name": "ipython",
    "version": 2
   },
   "file_extension": ".py",
   "mimetype": "text/x-python",
   "name": "python",
   "nbconvert_exporter": "python",
   "pygments_lexer": "ipython2",
   "version": "2.7.12"
  }
 },
 "nbformat": 4,
 "nbformat_minor": 1
}
