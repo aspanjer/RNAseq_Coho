{
 "cells": [
  {
   "cell_type": "markdown",
   "metadata": {},
   "source": [
    "   # RNAseq Coho Differential Expression"
   ]
  },
  {
   "cell_type": "code",
   "execution_count": 2,
   "metadata": {
    "collapsed": false
   },
   "outputs": [
    {
     "name": "stdout",
     "output_type": "stream",
     "text": [
      "/Users/andrewspanjer/RNAseq_Coho/data\n"
     ]
    }
   ],
   "source": [
    "cd data"
   ]
  },
  {
   "cell_type": "code",
   "execution_count": 2,
   "metadata": {
    "collapsed": false,
    "scrolled": true
   },
   "outputs": [
    {
     "name": "stdout",
     "output_type": "stream",
     "text": [
      "A.1.fastq.gz  F.1.fastq.gz  K.1.fastq.gz  P.1.fastq.gz  T.2.fastq.gz\r\n",
      "A.2.fastq.gz  F.2.fastq.gz  K.2.fastq.gz  P.2.fastq.gz  U.1.fastq.gz\r\n",
      "B.1.fastq.gz  G.1.fastq.gz  L.1.fastq.gz  Q.1.fastq.gz  U.2.fastq.gz\r\n",
      "B.2.fastq.gz  G.2.fastq.gz  L.2.fastq.gz  Q.2.fastq.gz  V.1.fastq.gz\r\n",
      "C.1.fastq.gz  H.1.fastq.gz  M.1.fastq.gz  R.1.fastq.gz  V.2.fastq.gz\r\n",
      "C.2.fastq.gz  H.2.fastq.gz  M.2.fastq.gz  R.2.fastq.gz  W.1.fastq.gz\r\n",
      "D.1.fastq.gz  I.1.fastq.gz  N.1.fastq.gz  README.md     W.2.fastq.gz\r\n",
      "D.2.fastq.gz  I.2.fastq.gz  N.2.fastq.gz  S.1.fastq.gz  X.1.fastq.gz\r\n",
      "E.1.fastq.gz  J.1.fastq.gz  O.1.fastq.gz  S.2.fastq.gz  X.2.fastq.gz\r\n",
      "E.2.fastq.gz  J.2.fastq.gz  O.2.fastq.gz  T.1.fastq.gz\r\n"
     ]
    }
   ],
   "source": [
    "ls"
   ]
  },
  {
   "cell_type": "markdown",
   "metadata": {},
   "source": [
    "#### Unzip first fastq file to look at the first 10 lines to see how the raw sequencng data looks. Rezip the file to save space: "
   ]
  },
  {
   "cell_type": "code",
   "execution_count": 15,
   "metadata": {
    "collapsed": false
   },
   "outputs": [
    {
     "name": "stdout",
     "output_type": "stream",
     "text": [
      "head: A.1.fastq: No such file or directory\r\n"
     ]
    }
   ],
   "source": [
    "!gunzip A.1.fastq.gz "
   ]
  },
  {
   "cell_type": "markdown",
   "metadata": {},
   "source": [
    "For a complete description of the data files see the README.md in /data. This file is one of 48 sequencing files representing PE reads of RNA from Juvenile Coho fish livers. Sequencing was performed by the UW Genomic Core facility."
   ]
  },
  {
   "cell_type": "code",
   "execution_count": 17,
   "metadata": {
    "collapsed": false,
    "scrolled": false
   },
   "outputs": [
    {
     "name": "stdout",
     "output_type": "stream",
     "text": [
      "@HWKWKBGXX:1:11101:10000:19471/1\r\n",
      "TTTTTTTGTACAAAAGCTGAGTAAGTTGGCCTGCAAAGCCCTAATTAAATGCCCCCACAACCAATAGAGAAGCAACAATTACAATTGTCAACTCTTTTTGCAGGCAGATCGGAAGAGCACACGTCTGAACTCCAGTCACGAATTCGTATA\r\n",
      "+\r\n",
      "AAAAAEEAEEEEAEEEEA<EEEEE6E//6E/AA<EEEEEE/EEE/EEAEEE<EA/EE/E666<EAAA6<EEEEEEEAEE<E/EEA/A/<EE/EE<EE/<//E//AE/<EAEEEEEEE/6/A/<E/E<E/AA</AAE<A//EEE<A/AE##\r\n",
      "@HWKWKBGXX:1:11101:10002:10211/1\r\n",
      "GAAGTGTTCTAGGGGTACCGCTTCAACAACGATGGGTATGAAGCTATGGTTAGCCCCGCAGATTTCAGAACATTGTCCGTAGAATACTCCAGGTCGAGAGATCGGAAGAGCACACGTCTGAACTCCAGTCACGAATTCGTATCTCGTATG\r\n",
      "+\r\n",
      "6A/AA6/EEEEEAEEEEAAEEEEEEAE/EEAEEEEAEE//E//AEEEEA/EEE6/EEEEEEA//E//</<EEAE/AA6EEEA<AEEEE/6E<6AE<EEEE6/AAEAEAEEAEEE<A/EAA<E/EE/66EEA66AAE/</AE<<66<A###\r\n",
      "@HWKWKBGXX:1:11101:10005:13424/1\r\n",
      "CCACCGCCGGCTTGTACCTGTTGAGGTAGTCAGCCACGCCACATATCGTCGGGCAGTACTTGCCAAATCCATCCCTTGGTGTGCAGTCCTCAGAATAGTCTCCCCTCGTTTGTGCAGAGGAGAGGGAGAACAGCAAAAGAACGCCTGCGG\r\n"
     ]
    }
   ],
   "source": [
    "!head A.1.fastq"
   ]
  },
  {
   "cell_type": "markdown",
   "metadata": {},
   "source": [
    "The data files are structured as follows:\n",
    "\n",
    "line 1:  @ 'instrument':'run number':'flowcell ID':'lane':'tile':'x-pos':'y-pos' 'read':'is filtered':'control number':'index sequence'\n",
    "\n",
    "Line 2: This is the actual sequence\n",
    "\n",
    "Line 3: a line break signaled by '+'\n",
    "\n",
    "Line 4: These are quality codes for each base in the sequence. A guide for these codes can be found here: http://support.illumina.com/help/BaseSpace_OLH_009008/Content/Source/Informatics/BS/QualityScoreEncoding_swBS.htm"
   ]
  },
  {
   "cell_type": "code",
   "execution_count": 3,
   "metadata": {
    "collapsed": false
   },
   "outputs": [],
   "source": [
    "!gzip A.1.fastq"
   ]
  },
  {
   "cell_type": "markdown",
   "metadata": {},
   "source": [
    "Next I want to count the number of sequences in each file (representing each individual). I would like to select the largest sequencing data set from each site to use in constructing the de novo transcriptome. Perhaps an easier way of doing this would be to simply look at the file size, but this way I have the number of reads for each individual. I need to use the 'zgrep' script to work with compressed files (\"wc\" will give an incorrect result with compressed files). I'll need to divide the output by 4 to get the correct number of reads (4 lines per read). "
   ]
  },
  {
   "cell_type": "code",
   "execution_count": 4,
   "metadata": {
    "collapsed": false
   },
   "outputs": [
    {
     "name": "stdout",
     "output_type": "stream",
     "text": [
      "A.1.fastq.gz:56752468\r\n",
      "A.2.fastq.gz:56752468\r\n",
      "B.1.fastq.gz:65017156\r\n",
      "B.2.fastq.gz:65017156\r\n",
      "C.1.fastq.gz:65433440\r\n",
      "C.2.fastq.gz:65433440\r\n",
      "D.1.fastq.gz:62594380\r\n",
      "D.2.fastq.gz:62594380\r\n",
      "E.1.fastq.gz:63222480\r\n",
      "E.2.fastq.gz:63222480\r\n",
      "F.1.fastq.gz:86837812\r\n",
      "F.2.fastq.gz:86837812\r\n",
      "G.1.fastq.gz:66037316\r\n",
      "G.2.fastq.gz:66037316\r\n",
      "H.1.fastq.gz:63267680\r\n",
      "H.2.fastq.gz:63267680\r\n",
      "I.1.fastq.gz:85395968\r\n",
      "I.2.fastq.gz:85395968\r\n",
      "J.1.fastq.gz:71119360\r\n",
      "J.2.fastq.gz:71119360\r\n",
      "K.1.fastq.gz:65728504\r\n",
      "K.2.fastq.gz:65728504\r\n",
      "L.1.fastq.gz:67399792\r\n",
      "L.2.fastq.gz:67399792\r\n",
      "M.1.fastq.gz:63365156\r\n",
      "M.2.fastq.gz:63365156\r\n",
      "N.1.fastq.gz:74193224\r\n",
      "N.2.fastq.gz:74193224\r\n",
      "O.1.fastq.gz:65143844\r\n",
      "O.2.fastq.gz:65143844\r\n",
      "P.1.fastq.gz:58907416\r\n",
      "P.2.fastq.gz:58907416\r\n",
      "Q.1.fastq.gz:73842176\r\n",
      "Q.2.fastq.gz:73842176\r\n",
      "R.1.fastq.gz:67564232\r\n",
      "R.2.fastq.gz:67564232\r\n",
      "S.1.fastq.gz:63299656\r\n",
      "S.2.fastq.gz:63299656\r\n",
      "T.1.fastq.gz:72148680\r\n",
      "T.2.fastq.gz:72148680\r\n",
      "U.1.fastq.gz:62809256\r\n",
      "U.2.fastq.gz:62809256\r\n",
      "V.1.fastq.gz:98999392\r\n",
      "V.2.fastq.gz:98999392\r\n",
      "W.1.fastq.gz:65467360\r\n",
      "W.2.fastq.gz:65467360\r\n",
      "X.1.fastq.gz:64802048\r\n",
      "X.2.fastq.gz:64802048\r\n"
     ]
    }
   ],
   "source": [
    "!zgrep -c ^ *.fastq.gz | tee reads.txt"
   ]
  }
 ],
 "metadata": {
  "anaconda-cloud": {},
  "kernelspec": {
   "display_name": "Python [conda root]",
   "language": "python",
   "name": "conda-root-py"
  },
  "language_info": {
   "codemirror_mode": {
    "name": "ipython",
    "version": 2
   },
   "file_extension": ".py",
   "mimetype": "text/x-python",
   "name": "python",
   "nbconvert_exporter": "python",
   "pygments_lexer": "ipython2",
   "version": "2.7.12"
  }
 },
 "nbformat": 4,
 "nbformat_minor": 1
}
