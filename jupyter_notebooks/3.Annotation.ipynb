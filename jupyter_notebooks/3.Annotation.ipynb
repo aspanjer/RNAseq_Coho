{
 "cells": [
  {
   "cell_type": "markdown",
   "metadata": {},
   "source": [
    "##Annotation of Transcriptome and Differential Expressed Genes\n",
    "Steps taken to annotate the transcriptome and table joining to add annotations to differential expression genes of interest. \n",
    "\n",
    "Software used:\n",
    "[blast+](https://blast.ncbi.nlm.nih.gov/Blast.cgi?PAGE_TYPE=BlastDocs&DOC_TYPE=Download)"
   ]
  },
  {
   "cell_type": "markdown",
   "metadata": {
    "collapsed": true
   },
   "source": [
    "###Annotation of Transcriptome"
   ]
  },
  {
   "cell_type": "code",
   "execution_count": 1,
   "metadata": {
    "collapsed": false
   },
   "outputs": [
    {
     "name": "stdout",
     "output_type": "stream",
     "text": [
      "/Users/andrewspanjer/RNAseq_Coho\n"
     ]
    }
   ],
   "source": [
    "cd /Users/andrewspanjer/RNAseq_Coho/"
   ]
  },
  {
   "cell_type": "code",
   "execution_count": 4,
   "metadata": {
    "collapsed": false
   },
   "outputs": [
    {
     "name": "stdout",
     "output_type": "stream",
     "text": [
      "creating new files:\r\n",
      "./analysis/Trinity/transcriptome2.00.fasta\r\n",
      "./analysis/Trinity/transcriptome2.01.fasta\r\n",
      "./analysis/Trinity/transcriptome2.02.fasta\r\n",
      "./analysis/Trinity/transcriptome2.03.fasta\r\n",
      "./analysis/Trinity/transcriptome2.04.fasta\r\n",
      "./analysis/Trinity/transcriptome2.05.fasta\r\n",
      "./analysis/Trinity/transcriptome2.06.fasta\r\n",
      "./analysis/Trinity/transcriptome2.07.fasta\r\n",
      "./analysis/Trinity/transcriptome2.08.fasta\r\n",
      "./analysis/Trinity/transcriptome2.09.fasta\r\n"
     ]
    }
   ],
   "source": [
    "! pyfasta split -n 10 ./analysis/Trinity/transcriptome2.fasta\n"
   ]
  },
  {
   "cell_type": "code",
   "execution_count": 18,
   "metadata": {
    "collapsed": false
   },
   "outputs": [
    {
     "name": "stderr",
     "output_type": "stream",
     "text": [
      "Command line argument error: Argument \"out\". File is not accessible:  `blastout_./analysis/Trinity/transcriptome2.00.fasta.txt'\n",
      "Command line argument error: Argument \"out\". File is not accessible:  `blastout_./analysis/Trinity/transcriptome2.01.fasta.txt'\n",
      "Command line argument error: Argument \"out\". File is not accessible:  `blastout_./analysis/Trinity/transcriptome2.02.fasta.txt'\n",
      "Command line argument error: Argument \"out\". File is not accessible:  `blastout_./analysis/Trinity/transcriptome2.03.fasta.txt'\n",
      "Command line argument error: Argument \"out\". File is not accessible:  `blastout_./analysis/Trinity/transcriptome2.04.fasta.txt'\n",
      "Command line argument error: Argument \"out\". File is not accessible:  `blastout_./analysis/Trinity/transcriptome2.05.fasta.txt'\n",
      "Command line argument error: Argument \"out\". File is not accessible:  `blastout_./analysis/Trinity/transcriptome2.06.fasta.txt'\n",
      "Command line argument error: Argument \"out\". File is not accessible:  `blastout_./analysis/Trinity/transcriptome2.07.fasta.txt'\n",
      "Command line argument error: Argument \"out\". File is not accessible:  `blastout_./analysis/Trinity/transcriptome2.08.fasta.txt'\n",
      "Command line argument error: Argument \"out\". File is not accessible:  `blastout_./analysis/Trinity/transcriptome2.09.fasta.txt'\n"
     ]
    }
   ],
   "source": [
    "%%bash\n",
    "for f in ./analysis/Trinity/transcriptome2.*.fasta\n",
    "do\n",
    "blastx \\\n",
    "-query $f \\\n",
    "-db ./BlastDB/salmonDB.fasta \\\n",
    "-evalue 1e-5 \\\n",
    "-max_target_seqs 1 \\\n",
    "-max_hsps 1 \\\n",
    "-outfmt 6 \\\n",
    "-num_threads 16 \\\n",
    "-out blastout_\"$f\".txt \\\n",
    "\n",
    "done"
   ]
  },
  {
   "cell_type": "code",
   "execution_count": null,
   "metadata": {
    "collapsed": false
   },
   "outputs": [],
   "source": [
    "!blastx -query ./analysis/Trinity/transcriptome2.00.fasta -db ./BlastDB/salmonDB.fasta -evalue 1e-5 \\\n",
    "-max_target_seqs 1 \\\n",
    "-max_hsps 1 \\\n",
    "-outfmt 6 \\\n",
    "-num_threads 16 \\\n",
    "-out blastout_00.txt \\"
   ]
  },
  {
   "cell_type": "code",
   "execution_count": null,
   "metadata": {
    "collapsed": true
   },
   "outputs": [],
   "source": [
    "!blastx -query ./analysis/Trinity/transcriptome2.01.fasta -db ./BlastDB/salmonDB.fasta -evalue 1e-5 \\\n",
    "-max_target_seqs 1 \\\n",
    "-max_hsps 1 \\\n",
    "-outfmt 6 \\\n",
    "-num_threads 16 \\\n",
    "-out blastout_01.txt \\"
   ]
  },
  {
   "cell_type": "code",
   "execution_count": null,
   "metadata": {
    "collapsed": true
   },
   "outputs": [],
   "source": [
    "!blastx -query ./analysis/Trinity/transcriptome2.02.fasta -db ./BlastDB/salmonDB.fasta -evalue 1e-5 \\\n",
    "-max_target_seqs 1 \\\n",
    "-max_hsps 1 \\\n",
    "-outfmt 6 \\\n",
    "-num_threads 16 \\\n",
    "-out blastout_02.txt \\"
   ]
  },
  {
   "cell_type": "code",
   "execution_count": null,
   "metadata": {
    "collapsed": true
   },
   "outputs": [],
   "source": [
    "!blastx -query ./analysis/Trinity/transcriptome2.03.fasta -db ./BlastDB/salmonDB.fasta -evalue 1e-5 \\\n",
    "-max_target_seqs 1 \\\n",
    "-max_hsps 1 \\\n",
    "-outfmt 6 \\\n",
    "-num_threads 16 \\\n",
    "-out blastout_03.txt \\"
   ]
  },
  {
   "cell_type": "code",
   "execution_count": null,
   "metadata": {
    "collapsed": true
   },
   "outputs": [],
   "source": [
    "!blastx -query ./analysis/Trinity/transcriptome2.04.fasta -db ./BlastDB/salmonDB.fasta -evalue 1e-5 \\\n",
    "-max_target_seqs 1 \\\n",
    "-max_hsps 1 \\\n",
    "-outfmt 6 \\\n",
    "-num_threads 16 \\\n",
    "-out blastout_04.txt \\"
   ]
  },
  {
   "cell_type": "code",
   "execution_count": null,
   "metadata": {
    "collapsed": true
   },
   "outputs": [],
   "source": [
    "!blastx -query ./analysis/Trinity/transcriptome2.05.fasta -db ./BlastDB/salmonDB.fasta -evalue 1e-5 \\\n",
    "-max_target_seqs 1 \\\n",
    "-max_hsps 1 \\\n",
    "-outfmt 6 \\\n",
    "-num_threads 16 \\\n",
    "-out blastout_05.txt \\"
   ]
  },
  {
   "cell_type": "code",
   "execution_count": null,
   "metadata": {
    "collapsed": true
   },
   "outputs": [],
   "source": [
    "!blastx -query ./analysis/Trinity/transcriptome2.06.fasta -db ./BlastDB/salmonDB.fasta -evalue 1e-5 \\\n",
    "-max_target_seqs 1 \\\n",
    "-max_hsps 1 \\\n",
    "-outfmt 6 \\\n",
    "-num_threads 16 \\\n",
    "-out blastout_06.txt \\"
   ]
  },
  {
   "cell_type": "code",
   "execution_count": null,
   "metadata": {
    "collapsed": true
   },
   "outputs": [],
   "source": [
    "!blastx -query ./analysis/Trinity/transcriptome2.07.fasta -db ./BlastDB/salmonDB.fasta -evalue 1e-5 \\\n",
    "-max_target_seqs 1 \\\n",
    "-max_hsps 1 \\\n",
    "-outfmt 6 \\\n",
    "-num_threads 16 \\\n",
    "-out blastout_07.txt \\"
   ]
  },
  {
   "cell_type": "code",
   "execution_count": null,
   "metadata": {
    "collapsed": true
   },
   "outputs": [],
   "source": [
    "!blastx -query ./analysis/Trinity/transcriptome2.08.fasta -db ./BlastDB/salmonDB.fasta -evalue 1e-5 \\\n",
    "-max_target_seqs 1 \\\n",
    "-max_hsps 1 \\\n",
    "-outfmt 6 \\\n",
    "-num_threads 16 \\\n",
    "-out blastout_08.txt \\"
   ]
  },
  {
   "cell_type": "code",
   "execution_count": null,
   "metadata": {
    "collapsed": true
   },
   "outputs": [],
   "source": [
    "!blastx -query ./analysis/Trinity/transcriptome2.09.fasta -db ./BlastDB/salmonDB.fasta -evalue 1e-5 \\\n",
    "-max_target_seqs 1 \\\n",
    "-max_hsps 1 \\\n",
    "-outfmt 6 \\\n",
    "-num_threads 16 \\\n",
    "-out blastout_09.txt \\"
   ]
  },
  {
   "cell_type": "code",
   "execution_count": null,
   "metadata": {
    "collapsed": true
   },
   "outputs": [],
   "source": []
  },
  {
   "cell_type": "markdown",
   "metadata": {},
   "source": [
    "[Annotation results](https://github.com/aspanjer/RNAseq_Coho/blob/master/analysis/Annotation/annotation.txt)"
   ]
  },
  {
   "cell_type": "markdown",
   "metadata": {},
   "source": [
    "Using resulting table from above, I pulled the Uniprot IDs for each of my DE significant files by combining tables in sql share:(not yet complete)"
   ]
  },
  {
   "cell_type": "markdown",
   "metadata": {
    "collapsed": true
   },
   "source": []
  },
  {
   "cell_type": "markdown",
   "metadata": {
    "collapsed": true
   },
   "source": [
    "Next step [GO Enrichment Analysis](https://github.com/aspanjer/RNAseq_Coho/blob/master/jupyter_notebooks/4.%20Gene%20Ontology%20Enrichment%20Analysis.ipynb) (new journal)"
   ]
  }
 ],
 "metadata": {
  "anaconda-cloud": {},
  "kernelspec": {
   "display_name": "Python [conda root]",
   "language": "python",
   "name": "conda-root-py"
  },
  "language_info": {
   "codemirror_mode": {
    "name": "ipython",
    "version": 2
   },
   "file_extension": ".py",
   "mimetype": "text/x-python",
   "name": "python",
   "nbconvert_exporter": "python",
   "pygments_lexer": "ipython2",
   "version": "2.7.12"
  }
 },
 "nbformat": 4,
 "nbformat_minor": 1
}
