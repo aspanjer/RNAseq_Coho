{
 "cells": [
  {
   "cell_type": "markdown",
   "metadata": {},
   "source": [
    "##Annotation of Transcriptome and Differential Expressed Genes\n",
    "Steps taken to annotate the transcriptome and table joining to add annotations to differential expression genes of interest. \n",
    "\n",
    "Software used:\n",
    "[blast+](https://blast.ncbi.nlm.nih.gov/Blast.cgi?PAGE_TYPE=BlastDocs&DOC_TYPE=Download)"
   ]
  },
  {
   "cell_type": "markdown",
   "metadata": {
    "collapsed": true
   },
   "source": [
    "###Annotation of Transcriptome"
   ]
  },
  {
   "cell_type": "code",
   "execution_count": 2,
   "metadata": {
    "collapsed": false
   },
   "outputs": [
    {
     "name": "stdout",
     "output_type": "stream",
     "text": [
      "/Users/andrewspanjer/RNAseq_Coho\n"
     ]
    }
   ],
   "source": [
    "cd ./RNAseq_Coho/"
   ]
  },
  {
   "cell_type": "code",
   "execution_count": 4,
   "metadata": {
    "collapsed": false
   },
   "outputs": [
    {
     "name": "stdout",
     "output_type": "stream",
     "text": [
      "^C\r\n"
     ]
    }
   ],
   "source": [
    "!blastx -query ./analysis/Trinity/transcriptome.fasta -db ./BlastDB/salmonDB.fasta -max_hsps 1 -max_target_seqs 1 -outfmt 6 -out ./analysis/Annotation/full_transcriptome.txt"
   ]
  },
  {
   "cell_type": "markdown",
   "metadata": {},
   "source": [
    "[Annotation results](https://github.com/aspanjer/RNAseq_Coho/blob/master/analysis/Annotation/annotation.txt)"
   ]
  },
  {
   "cell_type": "markdown",
   "metadata": {},
   "source": [
    "Using resulting table from above, I pulled the Uniprot IDs for each of my DE significant files by combining tables in sql share:(not yet complete)"
   ]
  },
  {
   "cell_type": "markdown",
   "metadata": {
    "collapsed": true
   },
   "source": []
  },
  {
   "cell_type": "markdown",
   "metadata": {
    "collapsed": true
   },
   "source": [
    "Next step [GO Enrichment Analysis](https://github.com/aspanjer/RNAseq_Coho/blob/master/jupyter_notebooks/4.%20Gene%20Ontology%20Enrichment%20Analysis.ipynb) (new journal)"
   ]
  }
 ],
 "metadata": {
  "anaconda-cloud": {},
  "kernelspec": {
   "display_name": "Python [conda root]",
   "language": "python",
   "name": "conda-root-py"
  },
  "language_info": {
   "codemirror_mode": {
    "name": "ipython",
    "version": 2
   },
   "file_extension": ".py",
   "mimetype": "text/x-python",
   "name": "python",
   "nbconvert_exporter": "python",
   "pygments_lexer": "ipython2",
   "version": "2.7.12"
  }
 },
 "nbformat": 4,
 "nbformat_minor": 1
}
