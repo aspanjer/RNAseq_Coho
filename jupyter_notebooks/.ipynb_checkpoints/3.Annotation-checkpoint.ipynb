{
 "cells": [
  {
   "cell_type": "markdown",
   "metadata": {},
   "source": [
    "### Annotation of Transcriptome and Differential Expressed Genes\n",
    "Steps taken to annotate the transcriptome and table joining to add annotations to differential expression genes of interest. \n",
    "\n",
    "Software used:\n",
    "[blast+](https://blast.ncbi.nlm.nih.gov/Blast.cgi?PAGE_TYPE=BlastDocs&DOC_TYPE=Download)"
   ]
  },
  {
   "cell_type": "markdown",
   "metadata": {
    "collapsed": true
   },
   "source": [
    "## Annotation of Transcriptome"
   ]
  },
  {
   "cell_type": "code",
   "execution_count": 1,
   "metadata": {
    "collapsed": false
   },
   "outputs": [
    {
     "name": "stdout",
     "output_type": "stream",
     "text": [
      "/Users/andrewspanjer/RNAseq_Coho\n"
     ]
    }
   ],
   "source": [
    "cd /Users/andrewspanjer/RNAseq_Coho/"
   ]
  },
  {
   "cell_type": "markdown",
   "metadata": {},
   "source": [
    "In order to speed up the blast search with the full transcriptome I used a different computer than I'm running this notebook on. This was my code:\n",
    "\n",
    "`blastx -query ./analysis/Trinity/transcriptome2.fasta -db swissprot -num_threads 12 -max_num_targets 1 -max_hsps 1 \\\n",
    "-outfmt 6 -out full_salmon.txt`\n",
    "\n",
    "I also ran it against only salmon proteins from both the uniprot reviewed and unreviewed database\n",
    "\n",
    "`blastx -query ./analysis/Trinity/transcriptome2.fasta -db salmonDB -num_threads 12 -max_num_targets 1 -max_hsps 1 \\\n",
    "-outfmt 6 -out full_sprot.txt`\n",
    "\n",
    "This database was made by downloading all salmon records from uniprot.org and runing `makeblastdb` with the downloaded fasta file.\n",
    "\n",
    "The Swissprot annotation is used for downstream functional analysis. The annotaion files can be found here:"
   ]
  },
  {
   "cell_type": "markdown",
   "metadata": {},
   "source": [
    "[Annotation results SalmonDB](https://raw.githubusercontent.com/aspanjer/RNAseq_Coho/master/analysis/Annotation/full_salmon.txt)\n",
    "\n",
    "[Annotation results SwissprotDB](https://raw.githubusercontent.com/aspanjer/RNAseq_Coho/master/analysis/Annotation/full_swiss.txt)"
   ]
  },
  {
   "cell_type": "markdown",
   "metadata": {},
   "source": [
    "Using swissprot table from above, I pulled the Uniprot IDs for each of my DE significant files by joining the annotation file with the DE gene files using the `join` comand in [usegalaxy.org](usegalaxy.org). The resulting files are a list of DE genes (padj <=.1) for each site with DE metrics, annotation, and GO codes from Uniprot.org:\n",
    "\n",
    "1. [Issaquah vs. Coulter](https://github.com/aspanjer/RNAseq_Coho/blob/master/analysis/GeneOntology/Issaquah/ISvCO_sig.txt)\n",
    "2. [Jenkins vs. Coulter](https://github.com/aspanjer/RNAseq_Coho/blob/master/analysis/GeneOntology/Jenkins/JEvsCO_sig.txt)\n",
    "3. [Swamp vs. Coulter](https://github.com/aspanjer/RNAseq_Coho/blob/master/analysis/GeneOntology/Swamp/SWvCO_sig.txt)\n",
    "\n"
   ]
  },
  {
   "cell_type": "markdown",
   "metadata": {
    "collapsed": true
   },
   "source": [
    "Next step [GO Enrichment Analysis](https://github.com/aspanjer/RNAseq_Coho/blob/master/jupyter_notebooks/4.%20Gene%20Ontology%20Enrichment%20Analysis.ipynb) (new journal)"
   ]
  }
 ],
 "metadata": {
  "anaconda-cloud": {},
  "kernelspec": {
   "display_name": "Python [conda root]",
   "language": "python",
   "name": "conda-root-py"
  },
  "language_info": {
   "codemirror_mode": {
    "name": "ipython",
    "version": 2
   },
   "file_extension": ".py",
   "mimetype": "text/x-python",
   "name": "python",
   "nbconvert_exporter": "python",
   "pygments_lexer": "ipython2",
   "version": "2.7.12"
  }
 },
 "nbformat": 4,
 "nbformat_minor": 1
}
