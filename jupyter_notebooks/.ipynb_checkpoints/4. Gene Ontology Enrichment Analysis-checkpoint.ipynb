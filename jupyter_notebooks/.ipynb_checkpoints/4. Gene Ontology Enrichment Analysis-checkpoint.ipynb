{
 "cells": [
  {
   "cell_type": "markdown",
   "metadata": {
    "collapsed": true
   },
   "source": [
    "## Gene Ontology Enrichment Analysis\n",
    "This notebook contains the steps taken to conduct a Gene Ontology enrichment analysis for genes differentially expressed at each sampling location as compared to the reference location. This work was done using [DAVID](https://david.ncifcrf.gov) and [REVIGO](http://revigo.irb.hr), both online resources for visualizing and working with ontology data. The analysis is repeatable, but updates to these websites may casue some differences in results. "
   ]
  },
  {
   "cell_type": "markdown",
   "metadata": {
    "collapsed": true
   },
   "source": [
    "### DAVID Enrichment Analysis"
   ]
  },
  {
   "cell_type": "markdown",
   "metadata": {
    "collapsed": true
   },
   "source": [
    "First I submitted a background gene list to compare each of my three DEG lists too in DAVID. I used the complete list of Uniprot IDs from the swissprot annotation (the list had many duplicate IDs and each was submitted only once to DAVID). ([file containing uniprot IDs](https://media.githubusercontent.com/media/aspanjer/RNAseq_Coho/master/analysis/GeneOntology/Swiss_full_uniCodes.txt)):\n",
    "\n",
    "![DAVID submission](https://github.com/aspanjer/RNAseq_Coho/blob/master/Screenshots/DAVIDbackground.png?raw=true)\n",
    "\n",
    "These had to be converted to IDs DAVID could recognize (only ~83,0000 converted):\n",
    "\n",
    "![DAVID conversion](https://github.com/aspanjer/RNAseq_Coho/blob/master/Screenshots/DAVIDconv.png?raw=true)\n",
    "\n",
    "Then each list of DE genes from each site was added for enrichment analysis (the example below is for Issaquah):\n",
    "\n",
    "![Issaquah_David](https://github.com/aspanjer/RNAseq_Coho/blob/master/Screenshots/DAVIDdownload.png?raw=true)\n",
    "\n",
    "For each site the \"Functional Annotation Chart\" containing \"GO direct\" terms that were eriched with enrichment pvalues was downloaded and used to make figures for the top 15 terms in each category at each site. The R code for each site:\n",
    "\n",
    "1. [Issaquah](https://github.com/aspanjer/RNAseq_Coho/blob/master/analysis/GeneOntology/Issaquah/GO_barplot.R)\n",
    "2. [Jenkins](https://github.com/aspanjer/RNAseq_Coho/blob/master/analysis/GeneOntology/Jenkins/GO_barplot.R)\n",
    "3. [Swamp](https://github.com/aspanjer/RNAseq_Coho/blob/master/analysis/GeneOntology/Swamp/GO_barplot.R)\n",
    "\n"
   ]
  },
  {
   "cell_type": "markdown",
   "metadata": {},
   "source": [
    "### REVIGO Functional analysis\n",
    "\n",
    "Enriched Biological Processes were investigated further using REVIGO. GO terms downloaded from the DAVID enrichment analysis with corresponding pvalues were submitted to REVIGO with the similarity set to \"tiny\" to reduce terms to the most incompassing of each biological process that was enriched:\n",
    "\n",
    "![REVIGO Submission](https://github.com/aspanjer/RNAseq_Coho/blob/master/Screenshots/REVIGOsub.png?raw=true)\n",
    "\n",
    "Then visualized:\n",
    "\n",
    "![REVIGO Visual](https://github.com/aspanjer/RNAseq_Coho/blob/master/Screenshots/REVIGOresults.png?raw=true)\n",
    "\n",
    "I then downloaded the .csv file and .r script for plotting the REVIGO visualization. Then using R and ggplot2, created a multiplot for the three sites. This multiplot needs all five .r scripts found in [../REVIGO](https://github.com/aspanjer/RNAseq_Coho/tree/master/analysis/GeneOntology/REVIGO). \n",
    "\n",
    "The multiplot_GG.R needs to be sourced in order to plot the three ggplots made using the other code. \n",
    "\n"
   ]
  },
  {
   "cell_type": "markdown",
   "metadata": {},
   "source": [
    "Resulting visuals from this analysis can be found in [/FinalFigures](https://github.com/aspanjer/RNAseq_Coho/tree/master/FinalFigures)"
   ]
  }
 ],
 "metadata": {
  "anaconda-cloud": {},
  "kernelspec": {
   "display_name": "Python [conda root]",
   "language": "python",
   "name": "conda-root-py"
  },
  "language_info": {
   "codemirror_mode": {
    "name": "ipython",
    "version": 2
   },
   "file_extension": ".py",
   "mimetype": "text/x-python",
   "name": "python",
   "nbconvert_exporter": "python",
   "pygments_lexer": "ipython2",
   "version": "2.7.12"
  }
 },
 "nbformat": 4,
 "nbformat_minor": 1
}
