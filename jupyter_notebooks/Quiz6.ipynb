{
 "cells": [
  {
   "cell_type": "markdown",
   "metadata": {},
   "source": [
    "##DNA Methylation Analysis for Quiz"
   ]
  },
  {
   "cell_type": "markdown",
   "metadata": {},
   "source": [
    "I first uploaded my data to CoGe using the the following URL for the data source:\n",
    "\n",
    "http://owl.fish.washington.edu/nightingales/O_lurida/20160203_mbdseq/zr1394_4_s6_R1.fastq.gz\n",
    "\n",
    "The notebook I used for analysis is shared publicly and can be accessed in notebook id 1812 [here](https://genomevolution.org/coge/NotebookView.pl?lid=1812)"
   ]
  },
  {
   "cell_type": "markdown",
   "metadata": {},
   "source": [
    "In order to find a sequence for a methylated region to look at within an Oncorhynchus species I used the CoGe genome browser and loaded the resulting methylation data. Since I was unable to find a way to copy the sequence data for a region of interest from the scaffold area I went ahead and used one of the short reads that aligned to the region to blast againt my taxa:\n",
    "\n",
    "![seq](https://github.com/aspanjer/RNAseq_Coho/blob/master/Screenshots/seqgrab.png?raw=true)\n",
    "   "
   ]
  },
  {
   "cell_type": "markdown",
   "metadata": {
    "collapsed": true
   },
   "source": [
    "I used NCBI blastn on the web to blast against Oncorynchus for a somewhat similar sequence and I got these results:\n",
    "    \n",
    "![NCBI blast](https://github.com/aspanjer/RNAseq_Coho/blob/master/Screenshots/quizblast.png?raw=true) "
   ]
  }
 ],
 "metadata": {
  "anaconda-cloud": {},
  "kernelspec": {
   "display_name": "Python [conda root]",
   "language": "python",
   "name": "conda-root-py"
  },
  "language_info": {
   "codemirror_mode": {
    "name": "ipython",
    "version": 2
   },
   "file_extension": ".py",
   "mimetype": "text/x-python",
   "name": "python",
   "nbconvert_exporter": "python",
   "pygments_lexer": "ipython2",
   "version": "2.7.12"
  }
 },
 "nbformat": 4,
 "nbformat_minor": 1
}
