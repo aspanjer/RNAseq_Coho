{
 "cells": [
  {
   "cell_type": "markdown",
   "metadata": {},
   "source": [
    "### Bash Script Test"
   ]
  },
  {
   "cell_type": "markdown",
   "metadata": {},
   "source": [
    "For this bash script I wanted to revisit one of the issues I had with the original read files I received from the sequencing facility, and create a script that would concatenate all of the files by sample and then rename the concatenated files with a lookup table. Additionally the orignial lookup table I was given had the barcode sample sequence as the reverse compliment of what the file names were. This script deals with this and accomplishes the concaenation. I have it set up to work on a small set of test files, I'll test it out on my data set, but don't have time to run it right now (the cat step takes a lot of time given file size). To work on the actual data set the extensions and number of file check will need to be updated in the [merge.sh](https://github.com/aspanjer/RNAseq_Coho/blob/master/test/merge.sh) file."
   ]
  },
  {
   "cell_type": "code",
   "execution_count": 2,
   "metadata": {
    "collapsed": false
   },
   "outputs": [
    {
     "name": "stdout",
     "output_type": "stream",
     "text": [
      "/Users/andrewspanjer/RNAseq_Coho/test\n"
     ]
    }
   ],
   "source": [
    "   cd ./RNAseq_Coho/test/"
   ]
  },
  {
   "cell_type": "code",
   "execution_count": 5,
   "metadata": {
    "collapsed": false
   },
   "outputs": [
    {
     "name": "stdout",
     "output_type": "stream",
     "text": [
      "GGAATCTC.AGGCTATA\n",
      "3ACO623\n",
      "GGAATCTC.GCCTCTAT\n",
      "8ACO623\n",
      "GGAATCTC.AGGCTATA\n",
      "3ACO623\n",
      "GGAATCTC.GCCTCTAT\n",
      "8ACO623\n"
     ]
    }
   ],
   "source": [
    "!bash merge.sh"
   ]
  },
  {
   "cell_type": "code",
   "execution_count": 6,
   "metadata": {
    "collapsed": false
   },
   "outputs": [
    {
     "name": "stdout",
     "output_type": "stream",
     "text": [
      "Wrong number of files\r\n"
     ]
    }
   ],
   "source": [
    "!bash merge.sh"
   ]
  },
  {
   "cell_type": "markdown",
   "metadata": {},
   "source": [
    "Here is a video of me using the script, since the whole thing is an if-than statement it will not let me run it twice, due to the change in number of files. \n",
    "\n",
    "![bash script](https://github.com/aspanjer/RNAseq_Coho/blob/master/Screenshots/bashscript.gif?raw=true)\n"
   ]
  }
 ],
 "metadata": {
  "anaconda-cloud": {},
  "kernelspec": {
   "display_name": "Python [conda root]",
   "language": "python",
   "name": "conda-root-py"
  },
  "language_info": {
   "codemirror_mode": {
    "name": "ipython",
    "version": 2
   },
   "file_extension": ".py",
   "mimetype": "text/x-python",
   "name": "python",
   "nbconvert_exporter": "python",
   "pygments_lexer": "ipython2",
   "version": "2.7.12"
  }
 },
 "nbformat": 4,
 "nbformat_minor": 1
}
