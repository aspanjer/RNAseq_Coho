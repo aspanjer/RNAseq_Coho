{
 "cells": [
  {
   "cell_type": "markdown",
   "metadata": {},
   "source": [
    "##Differential Expression analysis"
   ]
  },
  {
   "cell_type": "code",
   "execution_count": 11,
   "metadata": {
    "collapsed": false
   },
   "outputs": [
    {
     "name": "stdout",
     "output_type": "stream",
     "text": [
      "/Users/andrewspanjer/RNAseq_Coho\n"
     ]
    }
   ],
   "source": [
    "cd /Users/andrewspanjer/RNAseq_Coho/"
   ]
  },
  {
   "cell_type": "code",
   "execution_count": 12,
   "metadata": {
    "collapsed": false
   },
   "outputs": [
    {
     "name": "stdout",
     "output_type": "stream",
     "text": [
      "\u001b[34mBlastDB\u001b[m\u001b[m/           \u001b[34mScreenshots\u001b[m\u001b[m/       \u001b[34manalysis\u001b[m\u001b[m/          \u001b[34mjupyter_notebooks\u001b[m\u001b[m/\r\n",
      "README.md          \u001b[34mScripts\u001b[m\u001b[m/           \u001b[34mdata_raw\u001b[m\u001b[m/\r\n"
     ]
    }
   ],
   "source": [
    "ls"
   ]
  },
  {
   "cell_type": "markdown",
   "metadata": {
    "collapsed": true
   },
   "source": [
    "###Make kallisto index from transcriptome:"
   ]
  },
  {
   "cell_type": "code",
   "execution_count": 10,
   "metadata": {
    "collapsed": false,
    "scrolled": true
   },
   "outputs": [
    {
     "name": "stdout",
     "output_type": "stream",
     "text": [
      "\n",
      "[build] loading fasta file ./analysis/Trinity/transcriptome.fasta\n",
      "[build] k-mer length: 31\n",
      "[build] warning: clipped off poly-A tail (longer than 10)\n",
      "        from 37 target sequences\n",
      "[build] counting k-mers ... done.\n",
      "[build] building target de Bruijn graph ...  done \n",
      "[build] creating equivalence classes ...  done\n",
      "[build] target de Bruijn graph has 413764 contigs and contains 61754150 k-mers \n",
      "\n"
     ]
    }
   ],
   "source": [
    "!./Scripts/kallisto/kallisto index -i ./analysis/kallisto/transcriptome1 ./analysis/Trinity/transcriptome.fasta"
   ]
  },
  {
   "cell_type": "markdown",
   "metadata": {},
   "source": [
    "###Count reads for PE files, 24 seperate analyses:"
   ]
  },
  {
   "cell_type": "code",
   "execution_count": 16,
   "metadata": {
    "collapsed": false
   },
   "outputs": [
    {
     "name": "stdout",
     "output_type": "stream",
     "text": [
      "\n",
      "[quant] fragment length distribution will be estimated from the data\n",
      "[index] k-mer length: 31\n",
      "[index] number of targets: 138,481\n",
      "[index] number of k-mers: 61,754,150\n",
      "[index] number of equivalence classes: 280,049\n",
      "[quant] running in paired-end mode\n",
      "[quant] will process pair 1: ./data_raw/A.1_val_1.fq.gz\n",
      "                             ./data_raw/A.2_val_2.fq.gz\n",
      "[quant] finding pseudoalignments for the reads ... done\n",
      "[quant] processed 12,053,691 reads, 9,283,626 reads pseudoaligned\n",
      "[quant] estimated average fragment length: 151.616\n",
      "[   em] quantifying the abundances ... done\n",
      "[   em] the Expectation-Maximization algorithm ran for 1,179 rounds\n",
      "\n"
     ]
    }
   ],
   "source": [
    "!./scripts/kallisto/kallisto quant -i ./analysis/kallisto/transcriptome1 -o ./analysis/Counts/A/ -t 2 ./data_raw/A.1_val_1.fq.gz  ./data_raw/A.2_val_2.fq.gz"
   ]
  },
  {
   "cell_type": "code",
   "execution_count": 15,
   "metadata": {
    "collapsed": false,
    "scrolled": true
   },
   "outputs": [
    {
     "name": "stdout",
     "output_type": "stream",
     "text": [
      "\n",
      "[quant] fragment length distribution will be estimated from the data\n",
      "[index] k-mer length: 31\n",
      "[index] number of targets: 138,481\n",
      "[index] number of k-mers: 61,754,150\n",
      "[index] number of equivalence classes: 280,049\n",
      "[quant] running in paired-end mode\n",
      "[quant] will process pair 1: ./data_raw/B.1_val_1.fq.gz\n",
      "                             ./data_raw/B.2_val_2.fq.gz\n",
      "[quant] finding pseudoalignments for the reads ... done\n",
      "[quant] processed 14,994,269 reads, 12,549,617 reads pseudoaligned\n",
      "[quant] estimated average fragment length: 153.627\n",
      "[   em] quantifying the abundances ... done\n",
      "[   em] the Expectation-Maximization algorithm ran for 1,677 rounds\n",
      "\n"
     ]
    }
   ],
   "source": [
    "!./scripts/kallisto/kallisto quant -i ./analysis/kallisto/transcriptome1 -o ./analysis/Counts/ -t 2 ./data_raw/B.1_val_1.fq.gz  ./data_raw/B.2_val_2.fq.gz "
   ]
  },
  {
   "cell_type": "code",
   "execution_count": 17,
   "metadata": {
    "collapsed": false
   },
   "outputs": [
    {
     "name": "stdout",
     "output_type": "stream",
     "text": [
      "\n",
      "[quant] fragment length distribution will be estimated from the data\n",
      "[index] k-mer length: 31\n",
      "[index] number of targets: 138,481\n",
      "[index] number of k-mers: 61,754,150\n",
      "[index] number of equivalence classes: 280,049\n",
      "[quant] running in paired-end mode\n",
      "[quant] will process pair 1: ./data_raw/C.1_val_1.fq.gz\n",
      "                             ./data_raw/C.2_val_2.fq.gz\n",
      "[quant] finding pseudoalignments for the reads ... done\n",
      "[quant] processed 15,286,439 reads, 12,657,951 reads pseudoaligned\n",
      "[quant] estimated average fragment length: 146.672\n",
      "[   em] quantifying the abundances ... done\n",
      "[   em] the Expectation-Maximization algorithm ran for 1,634 rounds\n",
      "\n"
     ]
    }
   ],
   "source": [
    "!./scripts/kallisto/kallisto quant -i ./analysis/kallisto/transcriptome1 -o ./analysis/Counts/C/ -t 2 ./data_raw/C.1_val_1.fq.gz  ./data_raw/C.2_val_2.fq.gz"
   ]
  },
  {
   "cell_type": "code",
   "execution_count": 18,
   "metadata": {
    "collapsed": false,
    "scrolled": true
   },
   "outputs": [
    {
     "name": "stdout",
     "output_type": "stream",
     "text": [
      "\n",
      "[quant] fragment length distribution will be estimated from the data\n",
      "[index] k-mer length: 31\n",
      "[index] number of targets: 138,481\n",
      "[index] number of k-mers: 61,754,150\n",
      "[index] number of equivalence classes: 280,049\n",
      "[quant] running in paired-end mode\n",
      "[quant] will process pair 1: ./data_raw/D.1_val_1.fq.gz\n",
      "                             ./data_raw/D.2_val_2.fq.gz\n",
      "[quant] finding pseudoalignments for the reads ... done\n",
      "[quant] processed 14,826,320 reads, 12,525,569 reads pseudoaligned\n",
      "[quant] estimated average fragment length: 155.823\n",
      "[   em] quantifying the abundances ... done\n",
      "[   em] the Expectation-Maximization algorithm ran for 1,269 rounds\n",
      "\n"
     ]
    }
   ],
   "source": [
    "!./scripts/kallisto/kallisto quant -i ./analysis/kallisto/transcriptome1 -o ./analysis/Counts/D/ -t 2 ./data_raw/D.1_val_1.fq.gz  ./data_raw/D.2_val_2.fq.gz"
   ]
  },
  {
   "cell_type": "code",
   "execution_count": 20,
   "metadata": {
    "collapsed": false,
    "scrolled": true
   },
   "outputs": [
    {
     "name": "stdout",
     "output_type": "stream",
     "text": [
      "\n",
      "[quant] fragment length distribution will be estimated from the data\n",
      "[index] k-mer length: 31\n",
      "[index] number of targets: 138,481\n",
      "[index] number of k-mers: 61,754,150\n",
      "[index] number of equivalence classes: 280,049\n",
      "[quant] running in paired-end mode\n",
      "[quant] will process pair 1: ./data_raw/E.1_val_1.fq.gz\n",
      "                             ./data_raw/E.2_val_2.fq.gz\n",
      "[quant] finding pseudoalignments for the reads ... done\n",
      "[quant] processed 14,640,330 reads, 11,943,604 reads pseudoaligned\n",
      "[quant] estimated average fragment length: 151.835\n",
      "[   em] quantifying the abundances ... done\n",
      "[   em] the Expectation-Maximization algorithm ran for 1,178 rounds\n",
      "\n"
     ]
    }
   ],
   "source": [
    "!./scripts/kallisto/kallisto quant -i ./analysis/kallisto/transcriptome1 -o ./analysis/Counts/E/ -t 2 ./data_raw/E.1_val_1.fq.gz  ./data_raw/E.2_val_2.fq.gz"
   ]
  },
  {
   "cell_type": "code",
   "execution_count": 21,
   "metadata": {
    "collapsed": false,
    "scrolled": true
   },
   "outputs": [
    {
     "name": "stdout",
     "output_type": "stream",
     "text": [
      "\n",
      "[quant] fragment length distribution will be estimated from the data\n",
      "[index] k-mer length: 31\n",
      "[index] number of targets: 138,481\n",
      "[index] number of k-mers: 61,754,150\n",
      "[index] number of equivalence classes: 280,049\n",
      "[quant] running in paired-end mode\n",
      "[quant] will process pair 1: ./data_raw/F.1_val_1.fq.gz\n",
      "                             ./data_raw/F.2_val_2.fq.gz\n",
      "[quant] finding pseudoalignments for the reads ... done\n",
      "[quant] processed 20,258,350 reads, 16,921,348 reads pseudoaligned\n",
      "[quant] estimated average fragment length: 153.104\n",
      "[   em] quantifying the abundances ... done\n",
      "[   em] the Expectation-Maximization algorithm ran for 1,275 rounds\n",
      "\n"
     ]
    }
   ],
   "source": [
    "!./scripts/kallisto/kallisto quant -i ./analysis/kallisto/transcriptome1 -o ./analysis/Counts/F/ -t 2 ./data_raw/F.1_val_1.fq.gz  ./data_raw/F.2_val_2.fq.gz"
   ]
  },
  {
   "cell_type": "code",
   "execution_count": 22,
   "metadata": {
    "collapsed": false,
    "scrolled": true
   },
   "outputs": [
    {
     "name": "stdout",
     "output_type": "stream",
     "text": [
      "\n",
      "[quant] fragment length distribution will be estimated from the data\n",
      "[index] k-mer length: 31\n",
      "[index] number of targets: 138,481\n",
      "[index] number of k-mers: 61,754,150\n",
      "[index] number of equivalence classes: 280,049\n",
      "[quant] running in paired-end mode\n",
      "[quant] will process pair 1: ./data_raw/G.1_val_1.fq.gz\n",
      "                             ./data_raw/G.2_val_2.fq.gz\n",
      "[quant] finding pseudoalignments for the reads ... done\n",
      "[quant] processed 15,425,228 reads, 13,215,768 reads pseudoaligned\n",
      "[quant] estimated average fragment length: 154.021\n",
      "[   em] quantifying the abundances ... done\n",
      "[   em] the Expectation-Maximization algorithm ran for 1,281 rounds\n",
      "\n"
     ]
    }
   ],
   "source": [
    "!./scripts/kallisto/kallisto quant -i ./analysis/kallisto/transcriptome1 -o ./analysis/Counts/G/ -t 2 ./data_raw/G.1_val_1.fq.gz  ./data_raw/G.2_val_2.fq.gz"
   ]
  },
  {
   "cell_type": "code",
   "execution_count": 23,
   "metadata": {
    "collapsed": false,
    "scrolled": true
   },
   "outputs": [
    {
     "name": "stdout",
     "output_type": "stream",
     "text": [
      "\n",
      "[quant] fragment length distribution will be estimated from the data\n",
      "[index] k-mer length: 31\n",
      "[index] number of targets: 138,481\n",
      "[index] number of k-mers: 61,754,150\n",
      "[index] number of equivalence classes: 280,049\n",
      "[quant] running in paired-end mode\n",
      "[quant] will process pair 1: ./data_raw/H.1_val_1.fq.gz\n",
      "                             ./data_raw/H.2_val_2.fq.gz\n",
      "[quant] finding pseudoalignments for the reads ... done\n",
      "[quant] processed 14,839,524 reads, 12,636,910 reads pseudoaligned\n",
      "[quant] estimated average fragment length: 155.238\n",
      "[   em] quantifying the abundances ... done\n",
      "[   em] the Expectation-Maximization algorithm ran for 1,552 rounds\n",
      "\n"
     ]
    }
   ],
   "source": [
    "!./scripts/kallisto/kallisto quant -i ./analysis/kallisto/transcriptome1 -o ./analysis/Counts/H/ -t 2 ./data_raw/H.1_val_1.fq.gz  ./data_raw/H.2_val_2.fq.gz"
   ]
  },
  {
   "cell_type": "code",
   "execution_count": 24,
   "metadata": {
    "collapsed": false,
    "scrolled": true
   },
   "outputs": [
    {
     "name": "stdout",
     "output_type": "stream",
     "text": [
      "\n",
      "[quant] fragment length distribution will be estimated from the data\n",
      "[index] k-mer length: 31\n",
      "[index] number of targets: 138,481\n",
      "[index] number of k-mers: 61,754,150\n",
      "[index] number of equivalence classes: 280,049\n",
      "[quant] running in paired-end mode\n",
      "[quant] will process pair 1: ./data_raw/I.1_val_1.fq.gz\n",
      "                             ./data_raw/I.2_val_2.fq.gz\n",
      "[quant] finding pseudoalignments for the reads ... done\n",
      "[quant] processed 20,331,266 reads, 17,371,798 reads pseudoaligned\n",
      "[quant] estimated average fragment length: 150.333\n",
      "[   em] quantifying the abundances ... done\n",
      "[   em] the Expectation-Maximization algorithm ran for 1,360 rounds\n",
      "\n"
     ]
    }
   ],
   "source": [
    "!./scripts/kallisto/kallisto quant -i ./analysis/kallisto/transcriptome1 -o ./analysis/Counts/I/ -t 2 ./data_raw/I.1_val_1.fq.gz  ./data_raw/I.2_val_2.fq.gz"
   ]
  },
  {
   "cell_type": "code",
   "execution_count": 25,
   "metadata": {
    "collapsed": false,
    "scrolled": true
   },
   "outputs": [
    {
     "name": "stdout",
     "output_type": "stream",
     "text": [
      "\n",
      "[quant] fragment length distribution will be estimated from the data\n",
      "[index] k-mer length: 31\n",
      "[index] number of targets: 138,481\n",
      "[index] number of k-mers: 61,754,150\n",
      "[index] number of equivalence classes: 280,049\n",
      "[quant] running in paired-end mode\n",
      "[quant] will process pair 1: ./data_raw/J.1_val_1.fq.gz\n",
      "                             ./data_raw/J.2_val_2.fq.gz\n",
      "[quant] finding pseudoalignments for the reads ... done\n",
      "[quant] processed 16,855,488 reads, 14,149,656 reads pseudoaligned\n",
      "[quant] estimated average fragment length: 157.986\n",
      "[   em] quantifying the abundances ... done\n",
      "[   em] the Expectation-Maximization algorithm ran for 1,295 rounds\n",
      "\n"
     ]
    }
   ],
   "source": [
    "!./scripts/kallisto/kallisto quant -i ./analysis/kallisto/transcriptome1 -o ./analysis/Counts/J/ -t 2 ./data_raw/J.1_val_1.fq.gz  ./data_raw/J.2_val_2.fq.gz"
   ]
  },
  {
   "cell_type": "code",
   "execution_count": 26,
   "metadata": {
    "collapsed": false,
    "scrolled": true
   },
   "outputs": [
    {
     "name": "stdout",
     "output_type": "stream",
     "text": [
      "\n",
      "[quant] fragment length distribution will be estimated from the data\n",
      "[index] k-mer length: 31\n",
      "[index] number of targets: 138,481\n",
      "[index] number of k-mers: 61,754,150\n",
      "[index] number of equivalence classes: 280,049\n",
      "[quant] running in paired-end mode\n",
      "[quant] will process pair 1: ./data_raw/K.1_val_1.fq.gz\n",
      "                             ./data_raw/K.2_val_2.fq.gz\n",
      "[quant] finding pseudoalignments for the reads ... done\n",
      "[quant] processed 15,419,997 reads, 13,070,828 reads pseudoaligned\n",
      "[quant] estimated average fragment length: 147.721\n",
      "[   em] quantifying the abundances ... done\n",
      "[   em] the Expectation-Maximization algorithm ran for 1,192 rounds\n",
      "\n"
     ]
    }
   ],
   "source": [
    "!./scripts/kallisto/kallisto quant -i ./analysis/kallisto/transcriptome1 -o ./analysis/Counts/K/ -t 2 ./data_raw/K.1_val_1.fq.gz  ./data_raw/K.2_val_2.fq.gz"
   ]
  },
  {
   "cell_type": "code",
   "execution_count": 27,
   "metadata": {
    "collapsed": false,
    "scrolled": true
   },
   "outputs": [
    {
     "name": "stdout",
     "output_type": "stream",
     "text": [
      "\n",
      "[quant] fragment length distribution will be estimated from the data\n",
      "[index] k-mer length: 31\n",
      "[index] number of targets: 138,481\n",
      "[index] number of k-mers: 61,754,150\n",
      "[index] number of equivalence classes: 280,049\n",
      "[quant] running in paired-end mode\n",
      "[quant] will process pair 1: ./data_raw/L.1_val_1.fq.gz\n",
      "                             ./data_raw/L.2_val_2.fq.gz\n",
      "[quant] finding pseudoalignments for the reads ... done\n",
      "[quant] processed 16,302,275 reads, 13,889,488 reads pseudoaligned\n",
      "[quant] estimated average fragment length: 155.44\n",
      "[   em] quantifying the abundances ... done\n",
      "[   em] the Expectation-Maximization algorithm ran for 1,201 rounds\n",
      "\n"
     ]
    }
   ],
   "source": [
    "!./scripts/kallisto/kallisto quant -i ./analysis/kallisto/transcriptome1 -o ./analysis/Counts/L/ -t 2 ./data_raw/L.1_val_1.fq.gz  ./data_raw/L.2_val_2.fq.gz"
   ]
  },
  {
   "cell_type": "code",
   "execution_count": 28,
   "metadata": {
    "collapsed": false,
    "scrolled": true
   },
   "outputs": [
    {
     "name": "stdout",
     "output_type": "stream",
     "text": [
      "\n",
      "[quant] fragment length distribution will be estimated from the data\n",
      "[index] k-mer length: 31\n",
      "[index] number of targets: 138,481\n",
      "[index] number of k-mers: 61,754,150\n",
      "[index] number of equivalence classes: 280,049\n",
      "[quant] running in paired-end mode\n",
      "[quant] will process pair 1: ./data_raw/M.1_val_1.fq.gz\n",
      "                             ./data_raw/M.2_val_2.fq.gz\n",
      "[quant] finding pseudoalignments for the reads ... done\n",
      "[quant] processed 14,513,038 reads, 11,572,753 reads pseudoaligned\n",
      "[quant] estimated average fragment length: 154.282\n",
      "[   em] quantifying the abundances ... done\n",
      "[   em] the Expectation-Maximization algorithm ran for 1,440 rounds\n",
      "\n"
     ]
    }
   ],
   "source": [
    "!./scripts/kallisto/kallisto quant -i ./analysis/kallisto/transcriptome1 -o ./analysis/Counts/M/ -t 2 ./data_raw/M.1_val_1.fq.gz  ./data_raw/M.2_val_2.fq.gz"
   ]
  },
  {
   "cell_type": "code",
   "execution_count": 29,
   "metadata": {
    "collapsed": false,
    "scrolled": true
   },
   "outputs": [
    {
     "name": "stdout",
     "output_type": "stream",
     "text": [
      "\n",
      "[quant] fragment length distribution will be estimated from the data\n",
      "[index] k-mer length: 31\n",
      "[index] number of targets: 138,481\n",
      "[index] number of k-mers: 61,754,150\n",
      "[index] number of equivalence classes: 280,049\n",
      "[quant] running in paired-end mode\n",
      "[quant] will process pair 1: ./data_raw/N.1_val_1.fq.gz\n",
      "                             ./data_raw/N.2_val_2.fq.gz\n",
      "[quant] finding pseudoalignments for the reads ... done\n",
      "[quant] processed 17,278,422 reads, 14,564,756 reads pseudoaligned\n",
      "[quant] estimated average fragment length: 149.036\n",
      "[   em] quantifying the abundances ... done\n",
      "[   em] the Expectation-Maximization algorithm ran for 1,388 rounds\n",
      "\n"
     ]
    }
   ],
   "source": [
    "!./scripts/kallisto/kallisto quant -i ./analysis/kallisto/transcriptome1 -o ./analysis/Counts/N/ -t 2 ./data_raw/N.1_val_1.fq.gz  ./data_raw/N.2_val_2.fq.gz"
   ]
  },
  {
   "cell_type": "code",
   "execution_count": 30,
   "metadata": {
    "collapsed": false,
    "scrolled": true
   },
   "outputs": [
    {
     "name": "stdout",
     "output_type": "stream",
     "text": [
      "\n",
      "[quant] fragment length distribution will be estimated from the data\n",
      "[index] k-mer length: 31\n",
      "[index] number of targets: 138,481\n",
      "[index] number of k-mers: 61,754,150\n",
      "[index] number of equivalence classes: 280,049\n",
      "[quant] running in paired-end mode\n",
      "[quant] will process pair 1: ./data_raw/O.1_val_1.fq.gz\n",
      "                             ./data_raw/O.2_val_2.fq.gz\n",
      "[quant] finding pseudoalignments for the reads ... done\n",
      "[quant] processed 15,119,852 reads, 12,695,925 reads pseudoaligned\n",
      "[quant] estimated average fragment length: 148.792\n",
      "[   em] quantifying the abundances ... done\n",
      "[   em] the Expectation-Maximization algorithm ran for 1,238 rounds\n",
      "\n"
     ]
    }
   ],
   "source": [
    "!./scripts/kallisto/kallisto quant -i ./analysis/kallisto/transcriptome1 -o ./analysis/Counts/O/ -t 2 ./data_raw/O.1_val_1.fq.gz  ./data_raw/O.2_val_2.fq.gz"
   ]
  },
  {
   "cell_type": "code",
   "execution_count": 31,
   "metadata": {
    "collapsed": false,
    "scrolled": true
   },
   "outputs": [
    {
     "name": "stdout",
     "output_type": "stream",
     "text": [
      "\n",
      "[quant] fragment length distribution will be estimated from the data\n",
      "[index] k-mer length: 31\n",
      "[index] number of targets: 138,481\n",
      "[index] number of k-mers: 61,754,150\n",
      "[index] number of equivalence classes: 280,049\n",
      "[quant] running in paired-end mode\n",
      "[quant] will process pair 1: ./data_raw/P.1_val_1.fq.gz\n",
      "                             ./data_raw/P.2_val_2.fq.gz\n",
      "[quant] finding pseudoalignments for the reads ... done\n",
      "[quant] processed 13,972,274 reads, 11,559,933 reads pseudoaligned\n",
      "[quant] estimated average fragment length: 151.559\n",
      "[   em] quantifying the abundances ... done\n",
      "[   em] the Expectation-Maximization algorithm ran for 1,314 rounds\n",
      "\n"
     ]
    }
   ],
   "source": [
    "!./scripts/kallisto/kallisto quant -i ./analysis/kallisto/transcriptome1 -o ./analysis/Counts/P/ -t 2 ./data_raw/P.1_val_1.fq.gz  ./data_raw/P.2_val_2.fq.gz"
   ]
  },
  {
   "cell_type": "code",
   "execution_count": 32,
   "metadata": {
    "collapsed": false,
    "scrolled": true
   },
   "outputs": [
    {
     "name": "stdout",
     "output_type": "stream",
     "text": [
      "\n",
      "[quant] fragment length distribution will be estimated from the data\n",
      "[index] k-mer length: 31\n",
      "[index] number of targets: 138,481\n",
      "[index] number of k-mers: 61,754,150\n",
      "[index] number of equivalence classes: 280,049\n",
      "[quant] running in paired-end mode\n",
      "[quant] will process pair 1: ./data_raw/Q.1_val_1.fq.gz\n",
      "                             ./data_raw/Q.2_val_2.fq.gz\n",
      "[quant] finding pseudoalignments for the reads ... done\n",
      "[quant] processed 17,644,351 reads, 14,756,904 reads pseudoaligned\n",
      "[quant] estimated average fragment length: 155.74\n",
      "[   em] quantifying the abundances ... done\n",
      "[   em] the Expectation-Maximization algorithm ran for 1,439 rounds\n",
      "\n"
     ]
    }
   ],
   "source": [
    "!./scripts/kallisto/kallisto quant -i ./analysis/kallisto/transcriptome1 -o ./analysis/Counts/Q/ -t 2 ./data_raw/Q.1_val_1.fq.gz  ./data_raw/Q.2_val_2.fq.gz"
   ]
  },
  {
   "cell_type": "code",
   "execution_count": 33,
   "metadata": {
    "collapsed": false,
    "scrolled": true
   },
   "outputs": [
    {
     "name": "stdout",
     "output_type": "stream",
     "text": [
      "\n",
      "[quant] fragment length distribution will be estimated from the data\n",
      "[index] k-mer length: 31\n",
      "[index] number of targets: 138,481\n",
      "[index] number of k-mers: 61,754,150\n",
      "[index] number of equivalence classes: 280,049\n",
      "[quant] running in paired-end mode\n",
      "[quant] will process pair 1: ./data_raw/R.1_val_1.fq.gz\n",
      "                             ./data_raw/R.2_val_2.fq.gz\n",
      "[quant] finding pseudoalignments for the reads ... done\n",
      "[quant] processed 15,855,488 reads, 13,269,985 reads pseudoaligned\n",
      "[quant] estimated average fragment length: 154.772\n",
      "[   em] quantifying the abundances ... done\n",
      "[   em] the Expectation-Maximization algorithm ran for 1,203 rounds\n",
      "\n"
     ]
    }
   ],
   "source": [
    "!./scripts/kallisto/kallisto quant -i ./analysis/kallisto/transcriptome1 -o ./analysis/Counts/R/ -t 2 ./data_raw/R.1_val_1.fq.gz  ./data_raw/R.2_val_2.fq.gz"
   ]
  },
  {
   "cell_type": "code",
   "execution_count": 34,
   "metadata": {
    "collapsed": false,
    "scrolled": true
   },
   "outputs": [
    {
     "name": "stdout",
     "output_type": "stream",
     "text": [
      "\n",
      "[quant] fragment length distribution will be estimated from the data\n",
      "[index] k-mer length: 31\n",
      "[index] number of targets: 138,481\n",
      "[index] number of k-mers: 61,754,150\n",
      "[index] number of equivalence classes: 280,049\n",
      "[quant] running in paired-end mode\n",
      "[quant] will process pair 1: ./data_raw/S.1_val_1.fq.gz\n",
      "                             ./data_raw/S.2_val_2.fq.gz\n",
      "[quant] finding pseudoalignments for the reads ... done\n",
      "[quant] processed 14,911,974 reads, 12,622,579 reads pseudoaligned\n",
      "[quant] estimated average fragment length: 148.132\n",
      "[   em] quantifying the abundances ... done\n",
      "[   em] the Expectation-Maximization algorithm ran for 1,324 rounds\n",
      "\n"
     ]
    }
   ],
   "source": [
    "!./scripts/kallisto/kallisto quant -i ./analysis/kallisto/transcriptome1 -o ./analysis/Counts/S/ -t 2 ./data_raw/S.1_val_1.fq.gz  ./data_raw/S.2_val_2.fq.gz"
   ]
  },
  {
   "cell_type": "code",
   "execution_count": 35,
   "metadata": {
    "collapsed": false,
    "scrolled": true
   },
   "outputs": [
    {
     "name": "stdout",
     "output_type": "stream",
     "text": [
      "\n",
      "[quant] fragment length distribution will be estimated from the data\n",
      "[index] k-mer length: 31\n",
      "[index] number of targets: 138,481\n",
      "[index] number of k-mers: 61,754,150\n",
      "[index] number of equivalence classes: 280,049\n",
      "[quant] running in paired-end mode\n",
      "[quant] will process pair 1: ./data_raw/T.1_val_1.fq.gz\n",
      "                             ./data_raw/T.2_val_2.fq.gz\n",
      "[quant] finding pseudoalignments for the reads ... done\n",
      "[quant] processed 17,202,216 reads, 13,984,817 reads pseudoaligned\n",
      "[quant] estimated average fragment length: 155.245\n",
      "[   em] quantifying the abundances ... done\n",
      "[   em] the Expectation-Maximization algorithm ran for 1,293 rounds\n",
      "\n"
     ]
    }
   ],
   "source": [
    "!./scripts/kallisto/kallisto quant -i ./analysis/kallisto/transcriptome1 -o ./analysis/Counts/T/ -t 2 ./data_raw/T.1_val_1.fq.gz  ./data_raw/T.2_val_2.fq.gz"
   ]
  },
  {
   "cell_type": "code",
   "execution_count": 36,
   "metadata": {
    "collapsed": false,
    "scrolled": true
   },
   "outputs": [
    {
     "name": "stdout",
     "output_type": "stream",
     "text": [
      "\n",
      "[quant] fragment length distribution will be estimated from the data\n",
      "[index] k-mer length: 31\n",
      "[index] number of targets: 138,481\n",
      "[index] number of k-mers: 61,754,150\n",
      "[index] number of equivalence classes: 280,049\n",
      "[quant] running in paired-end mode\n",
      "[quant] will process pair 1: ./data_raw/U.1_val_1.fq.gz\n",
      "                             ./data_raw/U.2_val_2.fq.gz\n",
      "[quant] finding pseudoalignments for the reads ... done\n",
      "[quant] processed 14,349,021 reads, 12,133,978 reads pseudoaligned\n",
      "[quant] estimated average fragment length: 153.302\n",
      "[   em] quantifying the abundances ... done\n",
      "[   em] the Expectation-Maximization algorithm ran for 1,596 rounds\n",
      "\n"
     ]
    }
   ],
   "source": [
    "!./scripts/kallisto/kallisto quant -i ./analysis/kallisto/transcriptome1 -o ./analysis/Counts/U/ -t 2 ./data_raw/U.1_val_1.fq.gz  ./data_raw/U.2_val_2.fq.gz"
   ]
  },
  {
   "cell_type": "code",
   "execution_count": 37,
   "metadata": {
    "collapsed": false,
    "scrolled": true
   },
   "outputs": [
    {
     "name": "stdout",
     "output_type": "stream",
     "text": [
      "\n",
      "[quant] fragment length distribution will be estimated from the data\n",
      "[index] k-mer length: 31\n",
      "[index] number of targets: 138,481\n",
      "[index] number of k-mers: 61,754,150\n",
      "[index] number of equivalence classes: 280,049\n",
      "[quant] running in paired-end mode\n",
      "[quant] will process pair 1: ./data_raw/V.1_val_1.fq.gz\n",
      "                             ./data_raw/V.2_val_2.fq.gz\n",
      "[quant] finding pseudoalignments for the reads ... done\n",
      "[quant] processed 22,845,037 reads, 18,998,354 reads pseudoaligned\n",
      "[quant] estimated average fragment length: 159.504\n",
      "[   em] quantifying the abundances ... done\n",
      "[   em] the Expectation-Maximization algorithm ran for 1,429 rounds\n",
      "\n"
     ]
    }
   ],
   "source": [
    "!./scripts/kallisto/kallisto quant -i ./analysis/kallisto/transcriptome1 -o ./analysis/Counts/V/ -t 4 ./data_raw/V.1_val_1.fq.gz  ./data_raw/V.2_val_2.fq.gz"
   ]
  },
  {
   "cell_type": "code",
   "execution_count": 38,
   "metadata": {
    "collapsed": false,
    "scrolled": false
   },
   "outputs": [
    {
     "name": "stdout",
     "output_type": "stream",
     "text": [
      "\n",
      "[quant] fragment length distribution will be estimated from the data\n",
      "[index] k-mer length: 31\n",
      "[index] number of targets: 138,481\n",
      "[index] number of k-mers: 61,754,150\n",
      "[index] number of equivalence classes: 280,049\n",
      "[quant] running in paired-end mode\n",
      "[quant] will process pair 1: ./data_raw/W.1_val_1.fq.gz\n",
      "                             ./data_raw/W.2_val_2.fq.gz\n",
      "[quant] finding pseudoalignments for the reads ... done\n",
      "[quant] processed 15,346,311 reads, 12,575,038 reads pseudoaligned\n",
      "[quant] estimated average fragment length: 149.624\n",
      "[   em] quantifying the abundances ... done\n",
      "[   em] the Expectation-Maximization algorithm ran for 1,409 rounds\n",
      "\n"
     ]
    }
   ],
   "source": [
    "!./scripts/kallisto/kallisto quant -i ./analysis/kallisto/transcriptome1 -o ./analysis/Counts/W/ -t 4 ./data_raw/W.1_val_1.fq.gz  ./data_raw/W.2_val_2.fq.gz"
   ]
  },
  {
   "cell_type": "code",
   "execution_count": 39,
   "metadata": {
    "collapsed": false,
    "scrolled": true
   },
   "outputs": [
    {
     "name": "stdout",
     "output_type": "stream",
     "text": [
      "\n",
      "[quant] fragment length distribution will be estimated from the data\n",
      "[index] k-mer length: 31\n",
      "[index] number of targets: 138,481\n",
      "[index] number of k-mers: 61,754,150\n",
      "[index] number of equivalence classes: 280,049\n",
      "[quant] running in paired-end mode\n",
      "[quant] will process pair 1: ./data_raw/X.1_val_1.fq.gz\n",
      "                             ./data_raw/X.2_val_2.fq.gz\n",
      "[quant] finding pseudoalignments for the reads ... done\n",
      "[quant] processed 15,195,699 reads, 12,834,085 reads pseudoaligned\n",
      "[quant] estimated average fragment length: 151.828\n",
      "[   em] quantifying the abundances ... done\n",
      "[   em] the Expectation-Maximization algorithm ran for 1,486 rounds\n",
      "\n"
     ]
    }
   ],
   "source": [
    "!./scripts/kallisto/kallisto quant -i ./analysis/kallisto/transcriptome1 -o ./analysis/Counts/X/ -t 4 ./data_raw/X.1_val_1.fq.gz  ./data_raw/X.2_val_2.fq.gz"
   ]
  },
  {
   "cell_type": "markdown",
   "metadata": {},
   "source": [
    "After running kalisto to estimate abundances, I reorganized the individual count files by stream site into seperate files to facilitate differential analysis using DESeq2. \n",
    "\n",
    "![files](https://github.com/aspanjer/RNAseq_Coho/blob/master/screenshots/Screen%20Shot%202016-11-01%20at%2010.17.14%20AM.png?raw=true)"
   ]
  },
  {
   "cell_type": "markdown",
   "metadata": {},
   "source": [
    "I then pulled the estimated counts column from each individual count file into a count matrix in excel."
   ]
  },
  {
   "cell_type": "markdown",
   "metadata": {},
   "source": [
    "###PCA analysis to see if samples are unique to the sampling stream\n",
    "![PCA](https://github.com/aspanjer/RNAseq_Coho/blob/master/analysis/Differential%20Expression/SamplePCA.png?raw=true)"
   ]
  },
  {
   "cell_type": "markdown",
   "metadata": {},
   "source": [
    "I'm running DESeq2 in r. Code [here](https://github.com/aspanjer/RNAseq_Coho/blob/master/analysis/Differential%20Expression/r-analysis.R). I will visualize these differential expression results down the road. "
   ]
  },
  {
   "cell_type": "markdown",
   "metadata": {
    "collapsed": true
   },
   "source": [
    "Next step [Annotation]() (new journal)"
   ]
  }
 ],
 "metadata": {
  "anaconda-cloud": {},
  "kernelspec": {
   "display_name": "Python [conda root]",
   "language": "python",
   "name": "conda-root-py"
  },
  "language_info": {
   "codemirror_mode": {
    "name": "ipython",
    "version": 2
   },
   "file_extension": ".py",
   "mimetype": "text/x-python",
   "name": "python",
   "nbconvert_exporter": "python",
   "pygments_lexer": "ipython2",
   "version": "2.7.12"
  }
 },
 "nbformat": 4,
 "nbformat_minor": 1
}
