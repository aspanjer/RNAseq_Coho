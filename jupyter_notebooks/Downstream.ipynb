{
 "cells": [
  {
   "cell_type": "markdown",
   "metadata": {},
   "source": [
    "##Differential Expression analysis"
   ]
  },
  {
   "cell_type": "code",
   "execution_count": 3,
   "metadata": {
    "collapsed": false
   },
   "outputs": [
    {
     "name": "stdout",
     "output_type": "stream",
     "text": [
      "/Users/andrewspanjer/RNAseq_Coho\n"
     ]
    }
   ],
   "source": [
    "cd ./RNAseq_Coho/"
   ]
  },
  {
   "cell_type": "markdown",
   "metadata": {
    "collapsed": true
   },
   "source": [
    "###Make kallisto index from transcriptome:"
   ]
  },
  {
   "cell_type": "code",
   "execution_count": null,
   "metadata": {
    "collapsed": true
   },
   "outputs": [],
   "source": [
    "./scripts/kallisto/kallisto index -i transcriptome1 ./analyses/transcriptome/transcriptome.fasta "
   ]
  },
  {
   "cell_type": "markdown",
   "metadata": {},
   "source": [
    "###Count reads for PE files, 24 seperate analyses:"
   ]
  },
  {
   "cell_type": "code",
   "execution_count": 12,
   "metadata": {
    "collapsed": false
   },
   "outputs": [
    {
     "name": "stdout",
     "output_type": "stream",
     "text": [
      "\n",
      "[quant] fragment length distribution will be estimated from the data\n",
      "[index] k-mer length: 31\n",
      "[index] number of targets: 138,481\n",
      "[index] number of k-mers: 61,754,150\n",
      "[index] number of equivalence classes: 280,049\n",
      "[quant] running in paired-end mode\n",
      "[quant] will process pair 1: /Volumes/Untitled/trimed_fastq/A.1_trimmed.fq.gz\n",
      "                             /Volumes/Untitled/trimed_fastq/A.2_trimmed.fq.gz\n",
      "[quant] finding pseudoalignments for the reads ... done\n",
      "[quant] processed 12,201,628 reads, 3,990,906 reads pseudoaligned\n",
      "[quant] estimated average fragment length: 115.37\n",
      "[   em] quantifying the abundances ... done\n",
      "[   em] the Expectation-Maximization algorithm ran for 1,023 rounds\n",
      "\n"
     ]
    }
   ],
   "source": [
    "!./scripts/kallisto/kallisto quant -i transcriptome1 -o ./analyses/Counts/A/ /Volumes/Untitled/trimed_fastq/A.1_trimmed.fq.gz /Volumes/Untitled/trimed_fastq/A.2_trimmed.fq.gz  "
   ]
  },
  {
   "cell_type": "code",
   "execution_count": 13,
   "metadata": {
    "collapsed": false,
    "scrolled": true
   },
   "outputs": [
    {
     "name": "stdout",
     "output_type": "stream",
     "text": [
      "\n",
      "[quant] fragment length distribution will be estimated from the data\n",
      "[index] k-mer length: 31\n",
      "[index] number of targets: 138,481\n",
      "[index] number of k-mers: 61,754,150\n",
      "[index] number of equivalence classes: 280,049\n",
      "[quant] running in paired-end mode\n",
      "[quant] will process pair 1: /Volumes/Untitled/trimed_fastq/B.1_trimmed.fq.gz\n",
      "                             /Volumes/Untitled/trimed_fastq/B.2_trimmed.fq.gz\n",
      "[quant] finding pseudoalignments for the reads ... done\n",
      "[quant] processed 15,097,813 reads, 1,032,916 reads pseudoaligned\n",
      "[quant] estimated average fragment length: 96.8557\n",
      "[   em] quantifying the abundances ... done\n",
      "[   em] the Expectation-Maximization algorithm ran for 1,178 rounds\n",
      "\n"
     ]
    }
   ],
   "source": [
    "!./scripts/kallisto/kallisto quant -i transcriptome1 -o ./analyses/Counts/B/ /Volumes/Untitled/trimed_fastq/B.1_trimmed.fq.gz /Volumes/Untitled/trimed_fastq/B.2_trimmed.fq.gz  "
   ]
  },
  {
   "cell_type": "code",
   "execution_count": 14,
   "metadata": {
    "collapsed": false
   },
   "outputs": [
    {
     "name": "stdout",
     "output_type": "stream",
     "text": [
      "\n",
      "[quant] fragment length distribution will be estimated from the data\n",
      "[index] k-mer length: 31\n",
      "[index] number of targets: 138,481\n",
      "[index] number of k-mers: 61,754,150\n",
      "[index] number of equivalence classes: 280,049\n",
      "[quant] running in paired-end mode\n",
      "[quant] will process pair 1: /Volumes/Untitled/trimed_fastq/C.1_trimmed.fq.gz\n",
      "                             /Volumes/Untitled/trimed_fastq/C.2_trimmed.fq.gz\n",
      "[quant] finding pseudoalignments for the reads ... done\n",
      "[quant] processed 15,393,645 reads, 967,546 reads pseudoaligned\n",
      "[quant] estimated average fragment length: 72.9827\n",
      "[   em] quantifying the abundances ... done\n",
      "[   em] the Expectation-Maximization algorithm ran for 934 rounds\n",
      "\n"
     ]
    }
   ],
   "source": [
    "!./scripts/kallisto/kallisto quant -i transcriptome1 -o ./analyses/Counts/C/ /Volumes/Untitled/trimed_fastq/C.1_trimmed.fq.gz /Volumes/Untitled/trimed_fastq/C.2_trimmed.fq.gz  "
   ]
  },
  {
   "cell_type": "code",
   "execution_count": 15,
   "metadata": {
    "collapsed": false
   },
   "outputs": [
    {
     "name": "stdout",
     "output_type": "stream",
     "text": [
      "\n",
      "[quant] fragment length distribution will be estimated from the data\n",
      "[index] k-mer length: 31\n",
      "[index] number of targets: 138,481\n",
      "[index] number of k-mers: 61,754,150\n",
      "[index] number of equivalence classes: 280,049\n",
      "[quant] running in paired-end mode\n",
      "[quant] will process pair 1: /Volumes/Untitled/trimed_fastq/D.1_trimmed.fq.gz\n",
      "                             /Volumes/Untitled/trimed_fastq/D.2_trimmed.fq.gz\n",
      "[quant] finding pseudoalignments for the reads ... done\n",
      "[quant] processed 14,909,822 reads, 965,153 reads pseudoaligned\n",
      "[quant] estimated average fragment length: 179.027\n",
      "[   em] quantifying the abundances ... done\n",
      "[   em] the Expectation-Maximization algorithm ran for 1,007 rounds\n",
      "\n"
     ]
    }
   ],
   "source": [
    "!./scripts/kallisto/kallisto quant -i transcriptome1 -o ./analyses/Counts/D/ /Volumes/Untitled/trimed_fastq/D.1_trimmed.fq.gz /Volumes/Untitled/trimed_fastq/D.2_trimmed.fq.gz  "
   ]
  },
  {
   "cell_type": "code",
   "execution_count": 16,
   "metadata": {
    "collapsed": false
   },
   "outputs": [
    {
     "name": "stdout",
     "output_type": "stream",
     "text": [
      "\n",
      "[quant] fragment length distribution will be estimated from the data\n",
      "[index] k-mer length: 31\n",
      "[index] number of targets: 138,481\n",
      "[index] number of k-mers: 61,754,150\n",
      "[index] number of equivalence classes: 280,049\n",
      "[quant] running in paired-end mode\n",
      "[quant] will process pair 1: /Volumes/Untitled/trimed_fastq/E.1_trimmed.fq.gz\n",
      "                             /Volumes/Untitled/trimed_fastq/E.2_trimmed.fq.gz\n",
      "[quant] finding pseudoalignments for the reads ... done\n",
      "[quant] processed 14,730,783 reads, 1,021,305 reads pseudoaligned\n",
      "[quant] estimated average fragment length: 79.8699\n",
      "[   em] quantifying the abundances ... done\n",
      "[   em] the Expectation-Maximization algorithm ran for 1,150 rounds\n",
      "\n"
     ]
    }
   ],
   "source": [
    "!./scripts/kallisto/kallisto quant -i transcriptome1 -o ./analyses/Counts/E/ /Volumes/Untitled/trimed_fastq/E.1_trimmed.fq.gz /Volumes/Untitled/trimed_fastq/E.2_trimmed.fq.gz  "
   ]
  },
  {
   "cell_type": "code",
   "execution_count": 17,
   "metadata": {
    "collapsed": false
   },
   "outputs": [
    {
     "name": "stdout",
     "output_type": "stream",
     "text": [
      "\n",
      "[quant] fragment length distribution will be estimated from the data\n",
      "[index] k-mer length: 31\n",
      "[index] number of targets: 138,481\n",
      "[index] number of k-mers: 61,754,150\n",
      "[index] number of equivalence classes: 280,049\n",
      "[quant] running in paired-end mode\n",
      "[quant] will process pair 1: /Volumes/Untitled/trimed_fastq/F.1_trimmed.fq.gz\n",
      "                             /Volumes/Untitled/trimed_fastq/F.2_trimmed.fq.gz\n",
      "[quant] finding pseudoalignments for the reads ... done\n",
      "[quant] processed 20,312,985 reads, 1,274,123 reads pseudoaligned\n",
      "[quant] estimated average fragment length: 97.7672\n",
      "[   em] quantifying the abundances ... done\n",
      "[   em] the Expectation-Maximization algorithm ran for 1,344 rounds\n",
      "\n"
     ]
    }
   ],
   "source": [
    "!./scripts/kallisto/kallisto quant -i transcriptome1 -o ./analyses/Counts/F/ /Volumes/Untitled/trimed_fastq/F.1_trimmed.fq.gz /Volumes/Untitled/trimed_fastq/F.2_trimmed.fq.gz  "
   ]
  },
  {
   "cell_type": "code",
   "execution_count": 18,
   "metadata": {
    "collapsed": false
   },
   "outputs": [
    {
     "name": "stdout",
     "output_type": "stream",
     "text": [
      "\n",
      "[quant] fragment length distribution will be estimated from the data\n",
      "[index] k-mer length: 31\n",
      "[index] number of targets: 138,481\n",
      "[index] number of k-mers: 61,754,150\n",
      "[index] number of equivalence classes: 280,049\n",
      "[quant] running in paired-end mode\n",
      "[quant] will process pair 1: /Volumes/Untitled/trimed_fastq/G.1_trimmed.fq.gz\n",
      "                             /Volumes/Untitled/trimed_fastq/G.2_trimmed.fq.gz\n",
      "[quant] finding pseudoalignments for the reads ... done\n",
      "[quant] processed 15,509,776 reads, 1,100,913 reads pseudoaligned\n",
      "[quant] estimated average fragment length: 182.338\n",
      "[   em] quantifying the abundances ... done\n",
      "[   em] the Expectation-Maximization algorithm ran for 1,163 rounds\n",
      "\n"
     ]
    }
   ],
   "source": [
    "!./scripts/kallisto/kallisto quant -i transcriptome1 -o ./analyses/Counts/G/ /Volumes/Untitled/trimed_fastq/G.1_trimmed.fq.gz /Volumes/Untitled/trimed_fastq/G.2_trimmed.fq.gz  "
   ]
  },
  {
   "cell_type": "code",
   "execution_count": 19,
   "metadata": {
    "collapsed": false
   },
   "outputs": [
    {
     "name": "stdout",
     "output_type": "stream",
     "text": [
      "\n",
      "[quant] fragment length distribution will be estimated from the data\n",
      "[index] k-mer length: 31\n",
      "[index] number of targets: 138,481\n",
      "[index] number of k-mers: 61,754,150\n",
      "[index] number of equivalence classes: 280,049\n",
      "[quant] running in paired-end mode\n",
      "[quant] will process pair 1: /Volumes/Untitled/trimed_fastq/H.1_trimmed.fq.gz\n",
      "                             /Volumes/Untitled/trimed_fastq/H.2_trimmed.fq.gz\n",
      "[quant] finding pseudoalignments for the reads ... done\n",
      "[quant] processed 14,945,479 reads, 1,038,516 reads pseudoaligned\n",
      "[quant] estimated average fragment length: 173.044\n",
      "[   em] quantifying the abundances ... done\n",
      "[   em] the Expectation-Maximization algorithm ran for 1,259 rounds\n",
      "\n"
     ]
    }
   ],
   "source": [
    "!./scripts/kallisto/kallisto quant -i transcriptome1 -o ./analyses/Counts/H/ /Volumes/Untitled/trimed_fastq/H.1_trimmed.fq.gz /Volumes/Untitled/trimed_fastq/H.2_trimmed.fq.gz  "
   ]
  },
  {
   "cell_type": "code",
   "execution_count": 20,
   "metadata": {
    "collapsed": false
   },
   "outputs": [
    {
     "name": "stdout",
     "output_type": "stream",
     "text": [
      "\n",
      "[quant] fragment length distribution will be estimated from the data\n",
      "[index] k-mer length: 31\n",
      "[index] number of targets: 138,481\n",
      "[index] number of k-mers: 61,754,150\n",
      "[index] number of equivalence classes: 280,049\n",
      "[quant] running in paired-end mode\n",
      "[quant] will process pair 1: /Volumes/Untitled/trimed_fastq/I.1_trimmed.fq.gz\n",
      "                             /Volumes/Untitled/trimed_fastq/I.2_trimmed.fq.gz\n",
      "[quant] finding pseudoalignments for the reads ... done\n",
      "[quant] processed 20,361,821 reads, 1,250,118 reads pseudoaligned\n",
      "[quant] estimated average fragment length: 119.162\n",
      "[   em] quantifying the abundances ... done\n",
      "[   em] the Expectation-Maximization algorithm ran for 948 rounds\n",
      "\n"
     ]
    }
   ],
   "source": [
    "!./scripts/kallisto/kallisto quant -i transcriptome1 -o ./analyses/Counts/I/ /Volumes/Untitled/trimed_fastq/I.1_trimmed.fq.gz /Volumes/Untitled/trimed_fastq/I.2_trimmed.fq.gz  "
   ]
  },
  {
   "cell_type": "code",
   "execution_count": 21,
   "metadata": {
    "collapsed": false
   },
   "outputs": [
    {
     "name": "stdout",
     "output_type": "stream",
     "text": [
      "\n",
      "[quant] fragment length distribution will be estimated from the data\n",
      "[index] k-mer length: 31\n",
      "[index] number of targets: 138,481\n",
      "[index] number of k-mers: 61,754,150\n",
      "[index] number of equivalence classes: 280,049\n",
      "[quant] running in paired-end mode\n",
      "[quant] will process pair 1: /Volumes/Untitled/trimed_fastq/J.1_trimmed.fq.gz\n",
      "                             /Volumes/Untitled/trimed_fastq/J.2_trimmed.fq.gz\n",
      "[quant] finding pseudoalignments for the reads ... done\n",
      "[quant] processed 16,898,508 reads, 927,310 reads pseudoaligned\n",
      "[quant] estimated average fragment length: 96.2689\n",
      "[   em] quantifying the abundances ... done\n",
      "[   em] the Expectation-Maximization algorithm ran for 1,114 rounds\n",
      "\n"
     ]
    }
   ],
   "source": [
    "!./scripts/kallisto/kallisto quant -i transcriptome1 -o ./analyses/Counts/J/ /Volumes/Untitled/trimed_fastq/J.1_trimmed.fq.gz /Volumes/Untitled/trimed_fastq/J.2_trimmed.fq.gz  "
   ]
  },
  {
   "cell_type": "code",
   "execution_count": 22,
   "metadata": {
    "collapsed": false
   },
   "outputs": [
    {
     "name": "stdout",
     "output_type": "stream",
     "text": [
      "\n",
      "[quant] fragment length distribution will be estimated from the data\n",
      "[index] k-mer length: 31\n",
      "[index] number of targets: 138,481\n",
      "[index] number of k-mers: 61,754,150\n",
      "[index] number of equivalence classes: 280,049\n",
      "[quant] running in paired-end mode\n",
      "[quant] will process pair 1: /Volumes/Untitled/trimed_fastq/K.1_trimmed.fq.gz\n",
      "                             /Volumes/Untitled/trimed_fastq/K.2_trimmed.fq.gz\n",
      "[quant] finding pseudoalignments for the reads ... done\n",
      "[quant] processed 15,447,346 reads, 1,061,342 reads pseudoaligned\n",
      "[quant] estimated average fragment length: 112.781\n",
      "[   em] quantifying the abundances ... done\n",
      "[   em] the Expectation-Maximization algorithm ran for 1,175 rounds\n",
      "\n"
     ]
    }
   ],
   "source": [
    "!./scripts/kallisto/kallisto quant -i transcriptome1 -o ./analyses/Counts/K/ /Volumes/Untitled/trimed_fastq/K.1_trimmed.fq.gz /Volumes/Untitled/trimed_fastq/K.2_trimmed.fq.gz  "
   ]
  },
  {
   "cell_type": "code",
   "execution_count": 23,
   "metadata": {
    "collapsed": false
   },
   "outputs": [
    {
     "name": "stdout",
     "output_type": "stream",
     "text": [
      "\n",
      "[quant] fragment length distribution will be estimated from the data\n",
      "[index] k-mer length: 31\n",
      "[index] number of targets: 138,481\n",
      "[index] number of k-mers: 61,754,150\n",
      "[index] number of equivalence classes: 280,049\n",
      "[quant] running in paired-end mode\n",
      "[quant] will process pair 1: /Volumes/Untitled/trimed_fastq/L.1_trimmed.fq.gz\n",
      "                             /Volumes/Untitled/trimed_fastq/L.2_trimmed.fq.gz\n",
      "[quant] finding pseudoalignments for the reads ... done\n",
      "[quant] processed 16,320,773 reads, 980,665 reads pseudoaligned\n",
      "[quant] estimated average fragment length: 139.777\n",
      "[   em] quantifying the abundances ... done\n",
      "[   em] the Expectation-Maximization algorithm ran for 961 rounds\n",
      "\n"
     ]
    }
   ],
   "source": [
    "!./scripts/kallisto/kallisto quant -i transcriptome1 -o ./analyses/Counts/L/ /Volumes/Untitled/trimed_fastq/L.1_trimmed.fq.gz /Volumes/Untitled/trimed_fastq/L.2_trimmed.fq.gz  "
   ]
  },
  {
   "cell_type": "code",
   "execution_count": 24,
   "metadata": {
    "collapsed": false
   },
   "outputs": [
    {
     "name": "stdout",
     "output_type": "stream",
     "text": [
      "\n",
      "[quant] fragment length distribution will be estimated from the data\n",
      "[index] k-mer length: 31\n",
      "[index] number of targets: 138,481\n",
      "[index] number of k-mers: 61,754,150\n",
      "[index] number of equivalence classes: 280,049\n",
      "[quant] running in paired-end mode\n",
      "[quant] will process pair 1: /Volumes/Untitled/trimed_fastq/M.1_trimmed.fq.gz\n",
      "                             /Volumes/Untitled/trimed_fastq/M.2_trimmed.fq.gz\n",
      "[quant] finding pseudoalignments for the reads ... done\n",
      "[quant] processed 14,538,415 reads, 931,198 reads pseudoaligned\n",
      "[quant] estimated average fragment length: 88.5652\n",
      "[   em] quantifying the abundances ... done\n",
      "[   em] the Expectation-Maximization algorithm ran for 1,046 rounds\n",
      "\n"
     ]
    }
   ],
   "source": [
    "!./scripts/kallisto/kallisto quant -i transcriptome1 -o ./analyses/Counts/M/ /Volumes/Untitled/trimed_fastq/M.1_trimmed.fq.gz /Volumes/Untitled/trimed_fastq/M.2_trimmed.fq.gz  "
   ]
  },
  {
   "cell_type": "code",
   "execution_count": 25,
   "metadata": {
    "collapsed": false
   },
   "outputs": [
    {
     "name": "stdout",
     "output_type": "stream",
     "text": [
      "\n",
      "[quant] fragment length distribution will be estimated from the data\n",
      "[index] k-mer length: 31\n",
      "[index] number of targets: 138,481\n",
      "[index] number of k-mers: 61,754,150\n",
      "[index] number of equivalence classes: 280,049\n",
      "[quant] running in paired-end mode\n",
      "[quant] will process pair 1: /Volumes/Untitled/trimed_fastq/N.1_trimmed.fq.gz\n",
      "                             /Volumes/Untitled/trimed_fastq/N.2_trimmed.fq.gz\n",
      "[quant] finding pseudoalignments for the reads ... done\n",
      "[quant] processed 17,313,988 reads, 1,185,264 reads pseudoaligned\n",
      "[quant] estimated average fragment length: 118.145\n",
      "[   em] quantifying the abundances ... done\n",
      "[   em] the Expectation-Maximization algorithm ran for 964 rounds\n",
      "\n"
     ]
    }
   ],
   "source": [
    "!./scripts/kallisto/kallisto quant -i transcriptome1 -o ./analyses/Counts/N/ /Volumes/Untitled/trimed_fastq/N.1_trimmed.fq.gz /Volumes/Untitled/trimed_fastq/N.2_trimmed.fq.gz  "
   ]
  },
  {
   "cell_type": "code",
   "execution_count": 26,
   "metadata": {
    "collapsed": false
   },
   "outputs": [
    {
     "name": "stdout",
     "output_type": "stream",
     "text": [
      "\n",
      "[quant] fragment length distribution will be estimated from the data\n",
      "[index] k-mer length: 31\n",
      "[index] number of targets: 138,481\n",
      "[index] number of k-mers: 61,754,150\n",
      "[index] number of equivalence classes: 280,049\n",
      "[quant] running in paired-end mode\n",
      "[quant] will process pair 1: /Volumes/Untitled/trimed_fastq/O.1_trimmed.fq.gz\n",
      "                             /Volumes/Untitled/trimed_fastq/O.2_trimmed.fq.gz\n",
      "[quant] finding pseudoalignments for the reads ... done\n",
      "[quant] processed 15,157,044 reads, 977,818 reads pseudoaligned\n",
      "[quant] estimated average fragment length: 118.557\n",
      "[   em] quantifying the abundances ... done\n",
      "[   em] the Expectation-Maximization algorithm ran for 1,054 rounds\n",
      "\n"
     ]
    }
   ],
   "source": [
    "!./scripts/kallisto/kallisto quant -i transcriptome1 -o ./analyses/Counts/O/ /Volumes/Untitled/trimed_fastq/O.1_trimmed.fq.gz /Volumes/Untitled/trimed_fastq/O.2_trimmed.fq.gz  "
   ]
  },
  {
   "cell_type": "code",
   "execution_count": 27,
   "metadata": {
    "collapsed": false
   },
   "outputs": [
    {
     "name": "stdout",
     "output_type": "stream",
     "text": [
      "\n",
      "[quant] fragment length distribution will be estimated from the data\n",
      "[index] k-mer length: 31\n",
      "[index] number of targets: 138,481\n",
      "[index] number of k-mers: 61,754,150\n",
      "[index] number of equivalence classes: 280,049\n",
      "[quant] running in paired-end mode\n",
      "[quant] will process pair 1: /Volumes/Untitled/trimed_fastq/P.1_trimmed.fq.gz\n",
      "                             /Volumes/Untitled/trimed_fastq/P.2_trimmed.fq.gz\n",
      "[quant] finding pseudoalignments for the reads ... done\n",
      "[quant] processed 13,998,575 reads, 810,664 reads pseudoaligned\n",
      "[quant] estimated average fragment length: 79.1404\n",
      "[   em] quantifying the abundances ... done\n",
      "[   em] the Expectation-Maximization algorithm ran for 927 rounds\n",
      "\n"
     ]
    }
   ],
   "source": [
    "!./scripts/kallisto/kallisto quant -i transcriptome1 -o ./analyses/Counts/P/ /Volumes/Untitled/trimed_fastq/P.1_trimmed.fq.gz /Volumes/Untitled/trimed_fastq/P.2_trimmed.fq.gz  "
   ]
  },
  {
   "cell_type": "code",
   "execution_count": 28,
   "metadata": {
    "collapsed": false
   },
   "outputs": [
    {
     "name": "stdout",
     "output_type": "stream",
     "text": [
      "\n",
      "[quant] fragment length distribution will be estimated from the data\n",
      "[index] k-mer length: 31\n",
      "[index] number of targets: 138,481\n",
      "[index] number of k-mers: 61,754,150\n",
      "[index] number of equivalence classes: 280,049\n",
      "[quant] running in paired-end mode\n",
      "[quant] will process pair 1: /Volumes/Untitled/trimed_fastq/Q.1_trimmed.fq.gz\n",
      "                             /Volumes/Untitled/trimed_fastq/Q.2_trimmed.fq.gz\n",
      "[quant] finding pseudoalignments for the reads ... done\n",
      "[quant] processed 17,667,771 reads, 1,061,235 reads pseudoaligned\n",
      "[quant] estimated average fragment length: 95.4114\n",
      "[   em] quantifying the abundances ... done\n",
      "[   em] the Expectation-Maximization algorithm ran for 961 rounds\n",
      "\n"
     ]
    }
   ],
   "source": [
    "!./scripts/kallisto/kallisto quant -i transcriptome1 -o ./analyses/Counts/Q/ /Volumes/Untitled/trimed_fastq/Q.1_trimmed.fq.gz /Volumes/Untitled/trimed_fastq/Q.2_trimmed.fq.gz  "
   ]
  },
  {
   "cell_type": "code",
   "execution_count": 29,
   "metadata": {
    "collapsed": false
   },
   "outputs": [
    {
     "name": "stdout",
     "output_type": "stream",
     "text": [
      "\n",
      "[quant] fragment length distribution will be estimated from the data\n",
      "[index] k-mer length: 31\n",
      "[index] number of targets: 138,481\n",
      "[index] number of k-mers: 61,754,150\n",
      "[index] number of equivalence classes: 280,049\n",
      "[quant] running in paired-end mode\n",
      "[quant] will process pair 1: /Volumes/Untitled/trimed_fastq/R.1_trimmed.fq.gz\n",
      "                             /Volumes/Untitled/trimed_fastq/R.2_trimmed.fq.gz\n",
      "[quant] finding pseudoalignments for the reads ... done\n",
      "[quant] processed 15,885,740 reads, 1,023,234 reads pseudoaligned\n",
      "[quant] estimated average fragment length: 118.139\n",
      "[   em] quantifying the abundances ... done\n",
      "[   em] the Expectation-Maximization algorithm ran for 1,039 rounds\n",
      "\n"
     ]
    }
   ],
   "source": [
    "!./scripts/kallisto/kallisto quant -i transcriptome1 -o ./analyses/Counts/R/ /Volumes/Untitled/trimed_fastq/R.1_trimmed.fq.gz /Volumes/Untitled/trimed_fastq/R.2_trimmed.fq.gz  "
   ]
  },
  {
   "cell_type": "code",
   "execution_count": 30,
   "metadata": {
    "collapsed": false
   },
   "outputs": [
    {
     "name": "stdout",
     "output_type": "stream",
     "text": [
      "\n",
      "[quant] fragment length distribution will be estimated from the data\n",
      "[index] k-mer length: 31\n",
      "[index] number of targets: 138,481\n",
      "[index] number of k-mers: 61,754,150\n",
      "[index] number of equivalence classes: 280,049\n",
      "[quant] running in paired-end mode\n",
      "[quant] will process pair 1: /Volumes/Untitled/trimed_fastq/S.1_trimmed.fq.gz\n",
      "                             /Volumes/Untitled/trimed_fastq/S.2_trimmed.fq.gz\n",
      "[quant] finding pseudoalignments for the reads ... done\n",
      "[quant] processed 14,944,643 reads, 935,384 reads pseudoaligned\n",
      "[quant] estimated average fragment length: 108.482\n",
      "[   em] quantifying the abundances ... done\n",
      "[   em] the Expectation-Maximization algorithm ran for 935 rounds\n",
      "\n"
     ]
    }
   ],
   "source": [
    "!./scripts/kallisto/kallisto quant -i transcriptome1 -o ./analyses/Counts/S/ /Volumes/Untitled/trimed_fastq/S.1_trimmed.fq.gz /Volumes/Untitled/trimed_fastq/S.2_trimmed.fq.gz  "
   ]
  },
  {
   "cell_type": "code",
   "execution_count": 31,
   "metadata": {
    "collapsed": false
   },
   "outputs": [
    {
     "name": "stdout",
     "output_type": "stream",
     "text": [
      "\n",
      "[quant] fragment length distribution will be estimated from the data\n",
      "[index] k-mer length: 31\n",
      "[index] number of targets: 138,481\n",
      "[index] number of k-mers: 61,754,150\n",
      "[index] number of equivalence classes: 280,049\n",
      "[quant] running in paired-end mode\n",
      "[quant] will process pair 1: /Volumes/Untitled/trimed_fastq/T.1_trimmed.fq.gz\n",
      "                             /Volumes/Untitled/trimed_fastq/T.2_trimmed.fq.gz\n",
      "[quant] finding pseudoalignments for the reads ... done\n",
      "[quant] processed 17,272,095 reads, 1,165,900 reads pseudoaligned\n",
      "[quant] estimated average fragment length: 85.1154\n",
      "[   em] quantifying the abundances ... done\n",
      "[   em] the Expectation-Maximization algorithm ran for 1,123 rounds\n",
      "\n"
     ]
    }
   ],
   "source": [
    "!./scripts/kallisto/kallisto quant -i transcriptome1 -o ./analyses/Counts/T/ /Volumes/Untitled/trimed_fastq/T.1_trimmed.fq.gz /Volumes/Untitled/trimed_fastq/T.2_trimmed.fq.gz  "
   ]
  },
  {
   "cell_type": "code",
   "execution_count": 32,
   "metadata": {
    "collapsed": false
   },
   "outputs": [
    {
     "name": "stdout",
     "output_type": "stream",
     "text": [
      "\n",
      "[quant] fragment length distribution will be estimated from the data\n",
      "[index] k-mer length: 31\n",
      "[index] number of targets: 138,481\n",
      "[index] number of k-mers: 61,754,150\n",
      "[index] number of equivalence classes: 280,049\n",
      "[quant] running in paired-end mode\n",
      "[quant] will process pair 1: /Volumes/Untitled/trimed_fastq/U.1_trimmed.fq.gz\n",
      "                             /Volumes/Untitled/trimed_fastq/U.2_trimmed.fq.gz\n",
      "[quant] finding pseudoalignments for the reads ... done\n",
      "[quant] processed 14,379,019 reads, 1,024,149 reads pseudoaligned\n",
      "[quant] estimated average fragment length: 121.617\n",
      "[   em] quantifying the abundances ... done\n",
      "[   em] the Expectation-Maximization algorithm ran for 900 rounds\n",
      "\n"
     ]
    }
   ],
   "source": [
    "!./scripts/kallisto/kallisto quant -i transcriptome1 -o ./analyses/Counts/U/ /Volumes/Untitled/trimed_fastq/U.1_trimmed.fq.gz /Volumes/Untitled/trimed_fastq/U.2_trimmed.fq.gz  "
   ]
  },
  {
   "cell_type": "code",
   "execution_count": 33,
   "metadata": {
    "collapsed": false
   },
   "outputs": [
    {
     "name": "stdout",
     "output_type": "stream",
     "text": [
      "\n",
      "[quant] fragment length distribution will be estimated from the data\n",
      "[index] k-mer length: 31\n",
      "[index] number of targets: 138,481\n",
      "[index] number of k-mers: 61,754,150\n",
      "[index] number of equivalence classes: 280,049\n",
      "[quant] running in paired-end mode\n",
      "[quant] will process pair 1: /Volumes/Untitled/trimed_fastq/V.1_trimmed.fq.gz\n",
      "                             /Volumes/Untitled/trimed_fastq/V.2_trimmed.fq.gz\n",
      "[quant] finding pseudoalignments for the reads ... done\n",
      "[quant] processed 22,894,668 reads, 1,551,580 reads pseudoaligned\n",
      "[quant] estimated average fragment length: 90.6136\n",
      "[   em] quantifying the abundances ... done\n",
      "[   em] the Expectation-Maximization algorithm ran for 884 rounds\n",
      "\n"
     ]
    }
   ],
   "source": [
    "!./scripts/kallisto/kallisto quant -i transcriptome1 -o ./analyses/Counts/V/ /Volumes/Untitled/trimed_fastq/V.1_trimmed.fq.gz /Volumes/Untitled/trimed_fastq/V.2_trimmed.fq.gz  "
   ]
  },
  {
   "cell_type": "code",
   "execution_count": 34,
   "metadata": {
    "collapsed": false
   },
   "outputs": [
    {
     "name": "stdout",
     "output_type": "stream",
     "text": [
      "\n",
      "[quant] fragment length distribution will be estimated from the data\n",
      "[index] k-mer length: 31\n",
      "[index] number of targets: 138,481\n",
      "[index] number of k-mers: 61,754,150\n",
      "[index] number of equivalence classes: 280,049\n",
      "[quant] running in paired-end mode\n",
      "[quant] will process pair 1: /Volumes/Untitled/trimed_fastq/W.1_trimmed.fq.gz\n",
      "                             /Volumes/Untitled/trimed_fastq/W.2_trimmed.fq.gz\n",
      "[quant] finding pseudoalignments for the reads ... done\n",
      "[quant] processed 15,375,093 reads, 968,941 reads pseudoaligned\n",
      "[quant] estimated average fragment length: 82.946\n",
      "[   em] quantifying the abundances ... done\n",
      "[   em] the Expectation-Maximization algorithm ran for 827 rounds\n",
      "\n"
     ]
    }
   ],
   "source": [
    "!./scripts/kallisto/kallisto quant -i transcriptome1 -o ./analyses/Counts/W/ /Volumes/Untitled/trimed_fastq/W.1_trimmed.fq.gz /Volumes/Untitled/trimed_fastq/W.2_trimmed.fq.gz  "
   ]
  },
  {
   "cell_type": "code",
   "execution_count": 35,
   "metadata": {
    "collapsed": false
   },
   "outputs": [
    {
     "name": "stdout",
     "output_type": "stream",
     "text": [
      "\n",
      "[quant] fragment length distribution will be estimated from the data\n",
      "[index] k-mer length: 31\n",
      "[index] number of targets: 138,481\n",
      "[index] number of k-mers: 61,754,150\n",
      "[index] number of equivalence classes: 280,049\n",
      "[quant] running in paired-end mode\n",
      "[quant] will process pair 1: /Volumes/Untitled/trimed_fastq/X.1_trimmed.fq.gz\n",
      "                             /Volumes/Untitled/trimed_fastq/X.2_trimmed.fq.gz\n",
      "[quant] finding pseudoalignments for the reads ... done\n",
      "[quant] processed 15,217,742 reads, 1,065,123 reads pseudoaligned\n",
      "[quant] estimated average fragment length: 133.673\n",
      "[   em] quantifying the abundances ... done\n",
      "[   em] the Expectation-Maximization algorithm ran for 883 rounds\n",
      "\n"
     ]
    }
   ],
   "source": [
    "!./scripts/kallisto/kallisto quant -i transcriptome1 -o ./analyses/Counts/X/ /Volumes/Untitled/trimed_fastq/X.1_trimmed.fq.gz /Volumes/Untitled/trimed_fastq/X.2_trimmed.fq.gz  "
   ]
  },
  {
   "cell_type": "markdown",
   "metadata": {},
   "source": [
    "After running kalisto to estimate abundances, I reorganized the individual count files by stream site into seperate files to facilitate differential analysis using DESeq2. \n",
    "\n",
    "![files](https://github.com/aspanjer/RNAseq_Coho/blob/master/screenshots/Screen%20Shot%202016-11-01%20at%2010.17.14%20AM.png?raw=true)"
   ]
  },
  {
   "cell_type": "markdown",
   "metadata": {},
   "source": [
    "###PCA analysis to see if samples are unique to the sampling stream\n",
    "![PCA](https://github.com/aspanjer/RNAseq_Coho/blob/master/analysis/Differential%20Expression/SamplePCA.png?raw=true)"
   ]
  },
  {
   "cell_type": "markdown",
   "metadata": {},
   "source": [
    "I'm running DESeq2 in r. Code [here](https://github.com/aspanjer/RNAseq_Coho/blob/master/analysis/Differential%20Expression/r-analysis.R)"
   ]
  },
  {
   "cell_type": "markdown",
   "metadata": {
    "collapsed": true
   },
   "source": [
    "##Next Steps\n",
    "1) heat map by stream\n",
    "2) annotate significantly different contigs with blast:"
   ]
  },
  {
   "cell_type": "code",
   "execution_count": null,
   "metadata": {
    "collapsed": true
   },
   "outputs": [],
   "source": [
    "!blastx -query ./analyses/Differential\\ Expression/sig.txt \\\n",
    "-db ./BlastDB/salmonDB.fasta -max_hsps 1 -max_target_seqs 1 -outfmt 6 -out ./analyses/blastx/significant.txt"
   ]
  },
  {
   "cell_type": "markdown",
   "metadata": {
    "collapsed": false
   },
   "source": [
    "3) GO terms pull from [Uniprot](https://uniprot.org)\n",
    "4) condense GO terms and run enrichment analysis"
   ]
  }
 ],
 "metadata": {
  "anaconda-cloud": {},
  "kernelspec": {
   "display_name": "Python [conda root]",
   "language": "python",
   "name": "conda-root-py"
  },
  "language_info": {
   "codemirror_mode": {
    "name": "ipython",
    "version": 2
   },
   "file_extension": ".py",
   "mimetype": "text/x-python",
   "name": "python",
   "nbconvert_exporter": "python",
   "pygments_lexer": "ipython2",
   "version": "2.7.12"
  }
 },
 "nbformat": 4,
 "nbformat_minor": 1
}
